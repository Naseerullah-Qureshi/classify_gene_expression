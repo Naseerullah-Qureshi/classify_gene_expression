{
 "cells": [
  {
   "cell_type": "code",
   "execution_count": 5,
   "id": "cef0e8f8",
   "metadata": {},
   "outputs": [],
   "source": [
    "import pandas as pd\n",
    "import numpy  as np\n",
    "import seaborn as sns\n",
    "import matplotlib.pyplot as plt\n",
    "from sklearn.feature_selection import SelectKBest, chi2\n",
    "import warnings\n",
    "from sklearn.neural_network import MLPClassifier\n",
    "from sklearn.neighbors import KNeighborsClassifier\n",
    "from sklearn.svm import SVC\n",
    "from sklearn.gaussian_process import GaussianProcessClassifier\n",
    "from sklearn.ensemble import GradientBoostingClassifier\n",
    "from sklearn.tree import DecisionTreeClassifier\n",
    "from sklearn.ensemble import ExtraTreesClassifier\n",
    "from sklearn.ensemble import RandomForestClassifier, AdaBoostClassifier\n",
    "from sklearn.linear_model import SGDClassifier\n",
    "from sklearn.model_selection import train_test_split\n",
    "from sklearn.gaussian_process.kernels import RBF\n",
    "from sklearn.metrics import accuracy_score\n",
    "from sklearn.model_selection import LeaveOneOut,cross_val_score\n",
    "from sklearn.metrics import classification_report\n",
    "from sklearn.metrics import confusion_matrix\n",
    "from sklearn.metrics import plot_confusion_matrix\n",
    "from sklearn.metrics import accuracy_score\n",
    "from sklearn.linear_model import LogisticRegression\n",
    "from sklearn.naive_bayes import GaussianNB\n",
    "from sklearn import model_selection\n",
    "import mrmr\n",
    "import warnings\n",
    "warnings.filterwarnings('ignore')"
   ]
  },
  {
   "cell_type": "code",
   "execution_count": 2,
   "id": "978329f5",
   "metadata": {},
   "outputs": [],
   "source": [
    "# Full Data set from CFS (Correlation-based Feature Selection) \n",
    "dataset = pd.read_csv(\"D:/Blood_data_set.csv\")"
   ]
  },
  {
   "cell_type": "code",
   "execution_count": 3,
   "id": "5dc59487",
   "metadata": {},
   "outputs": [
    {
     "data": {
      "text/plain": [
       "(60, 15707)"
      ]
     },
     "execution_count": 3,
     "metadata": {},
     "output_type": "execute_result"
    }
   ],
   "source": [
    "dataset.shape"
   ]
  },
  {
   "cell_type": "code",
   "execution_count": 4,
   "id": "15aaa47c",
   "metadata": {},
   "outputs": [],
   "source": [
    "from sklearn.model_selection import train_test_split\n",
    "X2 = dataset.drop('Target', axis = 1)\n",
    "y2 = dataset['Target']\n",
    "\n",
    "X_train2, X_test2, y_train2, y_test2 = train_test_split(X2, y2, test_size=0.2, random_state=20)"
   ]
  },
  {
   "cell_type": "code",
   "execution_count": 5,
   "id": "20a4c127",
   "metadata": {},
   "outputs": [],
   "source": [
    "cor = X_train2.corr()"
   ]
  },
  {
   "cell_type": "code",
   "execution_count": 6,
   "id": "82758080",
   "metadata": {},
   "outputs": [],
   "source": [
    "# with the following function we can select highly correlated features\n",
    "# it will remove the first feature that is correlated with anything other feature\n",
    "\n",
    "def correlation(dataset, threshold):\n",
    "    col_corr = set()  # Set of all the names of correlated columns\n",
    "    corr_matrix = dataset.corr()\n",
    "    for i in range(len(corr_matrix.columns)):\n",
    "        for j in range(i):\n",
    "            if abs(corr_matrix.iloc[i, j]) > threshold: # we are interested in absolute coeff value\n",
    "                colname = corr_matrix.columns[i]  # getting the name of column\n",
    "                col_corr.add(colname)\n",
    "    return col_corr"
   ]
  },
  {
   "cell_type": "code",
   "execution_count": null,
   "id": "e1a141f4",
   "metadata": {},
   "outputs": [],
   "source": [
    "corr_features = correlation(X_train2, 0.8)\n",
    "len(set(corr_features))"
   ]
  },
  {
   "cell_type": "code",
   "execution_count": null,
   "id": "1c599410",
   "metadata": {},
   "outputs": [],
   "source": [
    "X_train2=X_train2.drop(corr_features,axis=1)\n",
    "X_test2=X_test2.drop(corr_features,axis=1)"
   ]
  },
  {
   "cell_type": "code",
   "execution_count": null,
   "id": "021e5bed",
   "metadata": {},
   "outputs": [],
   "source": [
    "from sklearn.preprocessing import StandardScaler\n",
    "sc = StandardScaler() \n",
    "X_train2 = sc.fit_transform(X_train2)\n",
    "X_test2 = sc.fit_transform(X_test2)"
   ]
  },
  {
   "cell_type": "code",
   "execution_count": null,
   "id": "a83f4a00",
   "metadata": {},
   "outputs": [],
   "source": [
    "from sklearn.metrics import roc_curve, roc_auc_score\n",
    " \n",
    "classifiers = [ SVC(probability=True),\n",
    "                KNeighborsClassifier(), \n",
    "                DecisionTreeClassifier(),\n",
    "                ExtraTreesClassifier(),\n",
    "                RandomForestClassifier(),\n",
    "                GaussianNB(),\n",
    "                MLPClassifier()\n",
    "                ]\n",
    "\n",
    "# Define a result table  (DataFrame)\n",
    "result_table = pd.DataFrame(columns=['classifiers', 'fpr','tpr','auc'])\n",
    "\n",
    "# Train the models \n",
    "for cls in classifiers:\n",
    "    model = cls.fit(X_train2, y_train2)\n",
    "    yproba2 = model.predict_proba(X_test2)[::,1]\n",
    "    \n",
    "    fpr, tpr, _ = roc_curve(y_test2,  yproba2)\n",
    "    auc = roc_auc_score(y_test2, yproba2)\n",
    "    \n",
    "    result_table = result_table.append({'classifiers':cls.__class__.__name__,\n",
    "                                        'fpr':fpr, \n",
    "                                        'tpr':tpr, \n",
    "                                        'auc':auc}, ignore_index=True)\n",
    "\n",
    "# Set name of the classifiers as index labels\n",
    "result_table.set_index('classifiers', inplace=True)"
   ]
  },
  {
   "cell_type": "code",
   "execution_count": null,
   "id": "a3dde4c9",
   "metadata": {},
   "outputs": [],
   "source": [
    "fig = plt.figure(figsize=(10,8))\n",
    "\n",
    "for i in result_table.index:\n",
    "    plt.plot(result_table.loc[i]['fpr'], \n",
    "             result_table.loc[i]['tpr'], \n",
    "             label=\"{}, AUC={:.3f}\".format(i, result_table.loc[i]['auc']))\n",
    "    \n",
    "plt.plot([0,1], [0,1], color='orange', linestyle='--')\n",
    "\n",
    "plt.xticks(np.arange(0.0, 1.1, step=0.1))\n",
    "plt.xlabel(\"Flase Positive Rate\", fontsize=15)\n",
    "\n",
    "plt.yticks(np.arange(0.0, 1.1, step=0.1))\n",
    "plt.ylabel(\"True Positive Rate\", fontsize=15)\n",
    "\n",
    "plt.title('ROC Curve Analysis', fontweight='bold', fontsize=15)\n",
    "plt.legend(prop={'size':13}, loc='lower right')\n",
    "\n",
    "plt.show()"
   ]
  },
  {
   "cell_type": "code",
   "execution_count": 93,
   "id": "b230738d",
   "metadata": {},
   "outputs": [],
   "source": [
    "names = [\"Linear_SVM\", \"Polynomial_SVM\", \"RBF_SVM\",\"Sigmoid_SVM\",\"Nearest_Neighbors\",\"Decision_Tree\",\n",
    "         \"Extra_Trees\", \"Random_Forest\",\"Naive_Bayes\",\"Neural_Net\"]\n",
    "\n",
    "classifiers = [\n",
    "    SVC(kernel ='linear'),\n",
    "    SVC(kernel ='poly'),\n",
    "    SVC(kernel ='rbf'),\n",
    "    SVC(kernel ='sigmoid'),\n",
    "    KNeighborsClassifier(),\n",
    "    DecisionTreeClassifier(),\n",
    "    ExtraTreesClassifier(),\n",
    "    RandomForestClassifier(),\n",
    "    GaussianNB(),\n",
    "    MLPClassifier()]"
   ]
  },
  {
   "cell_type": "code",
   "execution_count": 94,
   "id": "e4cf3eaa",
   "metadata": {},
   "outputs": [
    {
     "name": "stdout",
     "output_type": "stream",
     "text": [
      "[[5 0]\n",
      " [2 5]]\n",
      "0.8333333333333334\n",
      "              precision    recall  f1-score   support\n",
      "\n",
      "           0       0.71      1.00      0.83         5\n",
      "           1       1.00      0.71      0.83         7\n",
      "\n",
      "    accuracy                           0.83        12\n",
      "   macro avg       0.86      0.86      0.83        12\n",
      "weighted avg       0.88      0.83      0.83        12\n",
      "\n",
      "[[5 0]\n",
      " [7 0]]\n",
      "0.4166666666666667\n",
      "              precision    recall  f1-score   support\n",
      "\n",
      "           0       0.42      1.00      0.59         5\n",
      "           1       0.00      0.00      0.00         7\n",
      "\n",
      "    accuracy                           0.42        12\n",
      "   macro avg       0.21      0.50      0.29        12\n",
      "weighted avg       0.17      0.42      0.25        12\n",
      "\n",
      "[[5 0]\n",
      " [7 0]]\n",
      "0.4166666666666667\n",
      "              precision    recall  f1-score   support\n",
      "\n",
      "           0       0.42      1.00      0.59         5\n",
      "           1       0.00      0.00      0.00         7\n",
      "\n",
      "    accuracy                           0.42        12\n",
      "   macro avg       0.21      0.50      0.29        12\n",
      "weighted avg       0.17      0.42      0.25        12\n",
      "\n",
      "[[5 0]\n",
      " [2 5]]\n",
      "0.8333333333333334\n",
      "              precision    recall  f1-score   support\n",
      "\n",
      "           0       0.71      1.00      0.83         5\n",
      "           1       1.00      0.71      0.83         7\n",
      "\n",
      "    accuracy                           0.83        12\n",
      "   macro avg       0.86      0.86      0.83        12\n",
      "weighted avg       0.88      0.83      0.83        12\n",
      "\n",
      "[[1 4]\n",
      " [1 6]]\n",
      "0.5833333333333334\n",
      "              precision    recall  f1-score   support\n",
      "\n",
      "           0       0.50      0.20      0.29         5\n",
      "           1       0.60      0.86      0.71         7\n",
      "\n",
      "    accuracy                           0.58        12\n",
      "   macro avg       0.55      0.53      0.50        12\n",
      "weighted avg       0.56      0.58      0.53        12\n",
      "\n",
      "[[3 2]\n",
      " [3 4]]\n",
      "0.5833333333333334\n",
      "              precision    recall  f1-score   support\n",
      "\n",
      "           0       0.50      0.60      0.55         5\n",
      "           1       0.67      0.57      0.62         7\n",
      "\n",
      "    accuracy                           0.58        12\n",
      "   macro avg       0.58      0.59      0.58        12\n",
      "weighted avg       0.60      0.58      0.59        12\n",
      "\n",
      "[[5 0]\n",
      " [3 4]]\n",
      "0.75\n",
      "              precision    recall  f1-score   support\n",
      "\n",
      "           0       0.62      1.00      0.77         5\n",
      "           1       1.00      0.57      0.73         7\n",
      "\n",
      "    accuracy                           0.75        12\n",
      "   macro avg       0.81      0.79      0.75        12\n",
      "weighted avg       0.84      0.75      0.74        12\n",
      "\n",
      "[[5 0]\n",
      " [2 5]]\n",
      "0.8333333333333334\n",
      "              precision    recall  f1-score   support\n",
      "\n",
      "           0       0.71      1.00      0.83         5\n",
      "           1       1.00      0.71      0.83         7\n",
      "\n",
      "    accuracy                           0.83        12\n",
      "   macro avg       0.86      0.86      0.83        12\n",
      "weighted avg       0.88      0.83      0.83        12\n",
      "\n",
      "[[4 1]\n",
      " [4 3]]\n",
      "0.5833333333333334\n",
      "              precision    recall  f1-score   support\n",
      "\n",
      "           0       0.50      0.80      0.62         5\n",
      "           1       0.75      0.43      0.55         7\n",
      "\n",
      "    accuracy                           0.58        12\n",
      "   macro avg       0.62      0.61      0.58        12\n",
      "weighted avg       0.65      0.58      0.57        12\n",
      "\n",
      "[[3 2]\n",
      " [2 5]]\n",
      "0.6666666666666666\n",
      "              precision    recall  f1-score   support\n",
      "\n",
      "           0       0.60      0.60      0.60         5\n",
      "           1       0.71      0.71      0.71         7\n",
      "\n",
      "    accuracy                           0.67        12\n",
      "   macro avg       0.66      0.66      0.66        12\n",
      "weighted avg       0.67      0.67      0.67        12\n",
      "\n"
     ]
    }
   ],
   "source": [
    "scores = []\n",
    "for name, clf in zip(names, classifiers):\n",
    "    clf.fit(X_train2,y_train2)\n",
    "    score = clf.score(X_test2, y_test2)\n",
    "    y_predict2 = clf.predict(X_test2)\n",
    "    print(confusion_matrix(y_test2, y_predict2))\n",
    "    print(accuracy_score(y_test2, y_predict2))\n",
    "    print(classification_report(y_test2, y_predict2))\n",
    "    scores.append(score)"
   ]
  },
  {
   "cell_type": "code",
   "execution_count": 95,
   "id": "93be59d1",
   "metadata": {},
   "outputs": [
    {
     "data": {
      "text/html": [
       "<div>\n",
       "<style scoped>\n",
       "    .dataframe tbody tr th:only-of-type {\n",
       "        vertical-align: middle;\n",
       "    }\n",
       "\n",
       "    .dataframe tbody tr th {\n",
       "        vertical-align: top;\n",
       "    }\n",
       "\n",
       "    .dataframe thead th {\n",
       "        text-align: right;\n",
       "    }\n",
       "</style>\n",
       "<table border=\"1\" class=\"dataframe\">\n",
       "  <thead>\n",
       "    <tr style=\"text-align: right;\">\n",
       "      <th></th>\n",
       "      <th>name</th>\n",
       "      <th>score</th>\n",
       "    </tr>\n",
       "  </thead>\n",
       "  <tbody>\n",
       "    <tr>\n",
       "      <th>0</th>\n",
       "      <td>Linear_SVM</td>\n",
       "      <td>0.833333</td>\n",
       "    </tr>\n",
       "    <tr>\n",
       "      <th>1</th>\n",
       "      <td>Polynomial_SVM</td>\n",
       "      <td>0.416667</td>\n",
       "    </tr>\n",
       "    <tr>\n",
       "      <th>2</th>\n",
       "      <td>RBF_SVM</td>\n",
       "      <td>0.416667</td>\n",
       "    </tr>\n",
       "    <tr>\n",
       "      <th>3</th>\n",
       "      <td>Sigmoid_SVM</td>\n",
       "      <td>0.833333</td>\n",
       "    </tr>\n",
       "    <tr>\n",
       "      <th>4</th>\n",
       "      <td>Nearest_Neighbors</td>\n",
       "      <td>0.583333</td>\n",
       "    </tr>\n",
       "    <tr>\n",
       "      <th>5</th>\n",
       "      <td>Decision_Tree</td>\n",
       "      <td>0.583333</td>\n",
       "    </tr>\n",
       "    <tr>\n",
       "      <th>6</th>\n",
       "      <td>Extra_Trees</td>\n",
       "      <td>0.750000</td>\n",
       "    </tr>\n",
       "    <tr>\n",
       "      <th>7</th>\n",
       "      <td>Random_Forest</td>\n",
       "      <td>0.833333</td>\n",
       "    </tr>\n",
       "    <tr>\n",
       "      <th>8</th>\n",
       "      <td>Naive_Bayes</td>\n",
       "      <td>0.583333</td>\n",
       "    </tr>\n",
       "    <tr>\n",
       "      <th>9</th>\n",
       "      <td>Neural_Net</td>\n",
       "      <td>0.666667</td>\n",
       "    </tr>\n",
       "  </tbody>\n",
       "</table>\n",
       "</div>"
      ],
      "text/plain": [
       "                name     score\n",
       "0         Linear_SVM  0.833333\n",
       "1     Polynomial_SVM  0.416667\n",
       "2            RBF_SVM  0.416667\n",
       "3        Sigmoid_SVM  0.833333\n",
       "4  Nearest_Neighbors  0.583333\n",
       "5      Decision_Tree  0.583333\n",
       "6        Extra_Trees  0.750000\n",
       "7      Random_Forest  0.833333\n",
       "8        Naive_Bayes  0.583333\n",
       "9         Neural_Net  0.666667"
      ]
     },
     "execution_count": 95,
     "metadata": {},
     "output_type": "execute_result"
    }
   ],
   "source": [
    "df = pd.DataFrame()\n",
    "df['name'] = names\n",
    "df['score'] = scores\n",
    "df"
   ]
  },
  {
   "cell_type": "code",
   "execution_count": 96,
   "id": "31372470",
   "metadata": {},
   "outputs": [
    {
     "data": {
      "text/html": [
       "<style  type=\"text/css\" >\n",
       "    #T_9867ada6_a392_11ed_8375_00090ffe0001row0_col1 {\n",
       "            background-color:  #008000;\n",
       "            color:  #f1f1f1;\n",
       "        }    #T_9867ada6_a392_11ed_8375_00090ffe0001row1_col1 {\n",
       "            background-color:  #ebf3eb;\n",
       "            color:  #000000;\n",
       "        }    #T_9867ada6_a392_11ed_8375_00090ffe0001row2_col1 {\n",
       "            background-color:  #ebf3eb;\n",
       "            color:  #000000;\n",
       "        }    #T_9867ada6_a392_11ed_8375_00090ffe0001row3_col1 {\n",
       "            background-color:  #008000;\n",
       "            color:  #f1f1f1;\n",
       "        }    #T_9867ada6_a392_11ed_8375_00090ffe0001row4_col1 {\n",
       "            background-color:  #8dc58d;\n",
       "            color:  #000000;\n",
       "        }    #T_9867ada6_a392_11ed_8375_00090ffe0001row5_col1 {\n",
       "            background-color:  #8dc58d;\n",
       "            color:  #000000;\n",
       "        }    #T_9867ada6_a392_11ed_8375_00090ffe0001row6_col1 {\n",
       "            background-color:  #2f972f;\n",
       "            color:  #000000;\n",
       "        }    #T_9867ada6_a392_11ed_8375_00090ffe0001row7_col1 {\n",
       "            background-color:  #008000;\n",
       "            color:  #f1f1f1;\n",
       "        }    #T_9867ada6_a392_11ed_8375_00090ffe0001row8_col1 {\n",
       "            background-color:  #8dc58d;\n",
       "            color:  #000000;\n",
       "        }    #T_9867ada6_a392_11ed_8375_00090ffe0001row9_col1 {\n",
       "            background-color:  #5eae5e;\n",
       "            color:  #000000;\n",
       "        }</style><table id=\"T_9867ada6_a392_11ed_8375_00090ffe0001\" ><thead>    <tr>        <th class=\"blank level0\" ></th>        <th class=\"col_heading level0 col0\" >name</th>        <th class=\"col_heading level0 col1\" >score</th>    </tr></thead><tbody>\n",
       "                <tr>\n",
       "                        <th id=\"T_9867ada6_a392_11ed_8375_00090ffe0001level0_row0\" class=\"row_heading level0 row0\" >0</th>\n",
       "                        <td id=\"T_9867ada6_a392_11ed_8375_00090ffe0001row0_col0\" class=\"data row0 col0\" >Linear_SVM</td>\n",
       "                        <td id=\"T_9867ada6_a392_11ed_8375_00090ffe0001row0_col1\" class=\"data row0 col1\" >0.833333</td>\n",
       "            </tr>\n",
       "            <tr>\n",
       "                        <th id=\"T_9867ada6_a392_11ed_8375_00090ffe0001level0_row1\" class=\"row_heading level0 row1\" >1</th>\n",
       "                        <td id=\"T_9867ada6_a392_11ed_8375_00090ffe0001row1_col0\" class=\"data row1 col0\" >Polynomial_SVM</td>\n",
       "                        <td id=\"T_9867ada6_a392_11ed_8375_00090ffe0001row1_col1\" class=\"data row1 col1\" >0.416667</td>\n",
       "            </tr>\n",
       "            <tr>\n",
       "                        <th id=\"T_9867ada6_a392_11ed_8375_00090ffe0001level0_row2\" class=\"row_heading level0 row2\" >2</th>\n",
       "                        <td id=\"T_9867ada6_a392_11ed_8375_00090ffe0001row2_col0\" class=\"data row2 col0\" >RBF_SVM</td>\n",
       "                        <td id=\"T_9867ada6_a392_11ed_8375_00090ffe0001row2_col1\" class=\"data row2 col1\" >0.416667</td>\n",
       "            </tr>\n",
       "            <tr>\n",
       "                        <th id=\"T_9867ada6_a392_11ed_8375_00090ffe0001level0_row3\" class=\"row_heading level0 row3\" >3</th>\n",
       "                        <td id=\"T_9867ada6_a392_11ed_8375_00090ffe0001row3_col0\" class=\"data row3 col0\" >Sigmoid_SVM</td>\n",
       "                        <td id=\"T_9867ada6_a392_11ed_8375_00090ffe0001row3_col1\" class=\"data row3 col1\" >0.833333</td>\n",
       "            </tr>\n",
       "            <tr>\n",
       "                        <th id=\"T_9867ada6_a392_11ed_8375_00090ffe0001level0_row4\" class=\"row_heading level0 row4\" >4</th>\n",
       "                        <td id=\"T_9867ada6_a392_11ed_8375_00090ffe0001row4_col0\" class=\"data row4 col0\" >Nearest_Neighbors</td>\n",
       "                        <td id=\"T_9867ada6_a392_11ed_8375_00090ffe0001row4_col1\" class=\"data row4 col1\" >0.583333</td>\n",
       "            </tr>\n",
       "            <tr>\n",
       "                        <th id=\"T_9867ada6_a392_11ed_8375_00090ffe0001level0_row5\" class=\"row_heading level0 row5\" >5</th>\n",
       "                        <td id=\"T_9867ada6_a392_11ed_8375_00090ffe0001row5_col0\" class=\"data row5 col0\" >Decision_Tree</td>\n",
       "                        <td id=\"T_9867ada6_a392_11ed_8375_00090ffe0001row5_col1\" class=\"data row5 col1\" >0.583333</td>\n",
       "            </tr>\n",
       "            <tr>\n",
       "                        <th id=\"T_9867ada6_a392_11ed_8375_00090ffe0001level0_row6\" class=\"row_heading level0 row6\" >6</th>\n",
       "                        <td id=\"T_9867ada6_a392_11ed_8375_00090ffe0001row6_col0\" class=\"data row6 col0\" >Extra_Trees</td>\n",
       "                        <td id=\"T_9867ada6_a392_11ed_8375_00090ffe0001row6_col1\" class=\"data row6 col1\" >0.750000</td>\n",
       "            </tr>\n",
       "            <tr>\n",
       "                        <th id=\"T_9867ada6_a392_11ed_8375_00090ffe0001level0_row7\" class=\"row_heading level0 row7\" >7</th>\n",
       "                        <td id=\"T_9867ada6_a392_11ed_8375_00090ffe0001row7_col0\" class=\"data row7 col0\" >Random_Forest</td>\n",
       "                        <td id=\"T_9867ada6_a392_11ed_8375_00090ffe0001row7_col1\" class=\"data row7 col1\" >0.833333</td>\n",
       "            </tr>\n",
       "            <tr>\n",
       "                        <th id=\"T_9867ada6_a392_11ed_8375_00090ffe0001level0_row8\" class=\"row_heading level0 row8\" >8</th>\n",
       "                        <td id=\"T_9867ada6_a392_11ed_8375_00090ffe0001row8_col0\" class=\"data row8 col0\" >Naive_Bayes</td>\n",
       "                        <td id=\"T_9867ada6_a392_11ed_8375_00090ffe0001row8_col1\" class=\"data row8 col1\" >0.583333</td>\n",
       "            </tr>\n",
       "            <tr>\n",
       "                        <th id=\"T_9867ada6_a392_11ed_8375_00090ffe0001level0_row9\" class=\"row_heading level0 row9\" >9</th>\n",
       "                        <td id=\"T_9867ada6_a392_11ed_8375_00090ffe0001row9_col0\" class=\"data row9 col0\" >Neural_Net</td>\n",
       "                        <td id=\"T_9867ada6_a392_11ed_8375_00090ffe0001row9_col1\" class=\"data row9 col1\" >0.666667</td>\n",
       "            </tr>\n",
       "    </tbody></table>"
      ],
      "text/plain": [
       "<pandas.io.formats.style.Styler at 0x178cacee20>"
      ]
     },
     "execution_count": 96,
     "metadata": {},
     "output_type": "execute_result"
    }
   ],
   "source": [
    "cm = sns.light_palette(\"green\", as_cmap=True)\n",
    "s = df.style.background_gradient(cmap=cm)\n",
    "s"
   ]
  },
  {
   "cell_type": "code",
   "execution_count": 97,
   "id": "dcf1d404",
   "metadata": {},
   "outputs": [
    {
     "data": {
      "image/png": "[encoded data removed]",
      "text/plain": [
       "<Figure size 432x288 with 1 Axes>"
      ]
     },
     "metadata": {},
     "output_type": "display_data"
    }
   ],
   "source": [
    "sns.set(style=\"whitegrid\")\n",
    "ax = sns.barplot(y=\"name\", x=\"score\", data=df)"
   ]
  },
  {
   "cell_type": "code",
   "execution_count": 98,
   "id": "69400bd2",
   "metadata": {},
   "outputs": [],
   "source": [
    "# Full Data set from MIFS (Mutual Information Feature Selection)\n",
    "dataset_ig = pd.read_csv(\"D:/blood_data_set.csv\")\n",
    "X_ig = dataset_ig.drop('Target', axis = 1)\n",
    "y_ig = dataset_ig['Target']"
   ]
  },
  {
   "cell_type": "code",
   "execution_count": 99,
   "id": "f5cf9302",
   "metadata": {},
   "outputs": [],
   "source": [
    "#from sklearn.model_selection import train_test_split\n",
    "#X_ig = dataset.drop('Target', axis = 1)\n",
    "#y_ig = dataset['Target']\n",
    "\n",
    "X_train_ig, X_test_ig, y_train_ig, y_test_ig = train_test_split(X_ig, y_ig, test_size=0.2, random_state=20)"
   ]
  },
  {
   "cell_type": "code",
   "execution_count": 100,
   "id": "ee4fe3fe",
   "metadata": {},
   "outputs": [
    {
     "data": {
      "text/plain": [
       "array([0.        , 0.        , 0.10294407, ..., 0.        , 0.        ,\n",
       "       0.01328812])"
      ]
     },
     "execution_count": 100,
     "metadata": {},
     "output_type": "execute_result"
    }
   ],
   "source": [
    "from sklearn.feature_selection import mutual_info_classif\n",
    "# determine the mutual information\n",
    "mutual_info = mutual_info_classif(X_train_ig, y_train_ig)\n",
    "mutual_info"
   ]
  },
  {
   "cell_type": "code",
   "execution_count": 101,
   "id": "755a7b55",
   "metadata": {},
   "outputs": [
    {
     "data": {
      "text/plain": [
       "NAV1       0.319413\n",
       "ZNF10      0.299539\n",
       "ODC1       0.283637\n",
       "RAC3       0.280847\n",
       "PRPSAP1    0.274328\n",
       "             ...   \n",
       "EGFL8      0.000000\n",
       "RHOV       0.000000\n",
       "FAM163B    0.000000\n",
       "TCF20      0.000000\n",
       "Q73P46     0.000000\n",
       "Length: 15706, dtype: float64"
      ]
     },
     "execution_count": 101,
     "metadata": {},
     "output_type": "execute_result"
    }
   ],
   "source": [
    "mutual_info = pd.Series(mutual_info)\n",
    "mutual_info.index = X_train_ig.columns\n",
    "mutual_info.sort_values(ascending=False)"
   ]
  },
  {
   "cell_type": "code",
   "execution_count": 102,
   "id": "e0ac7e2a",
   "metadata": {},
   "outputs": [],
   "source": [
    "from sklearn.feature_selection import SelectKBest"
   ]
  },
  {
   "cell_type": "code",
   "execution_count": 103,
   "id": "4b5cbfb9",
   "metadata": {},
   "outputs": [
    {
     "data": {
      "text/plain": [
       "Index(['PRPSAP1', 'ODC1', 'ZNF10', 'NAV1', 'RAC3'], dtype='object')"
      ]
     },
     "execution_count": 103,
     "metadata": {},
     "output_type": "execute_result"
    }
   ],
   "source": [
    "#No we Will select the  top 5 important features\n",
    "sel_five_cols = SelectKBest(mutual_info_classif, k=5).fit(X_train_ig, y_train_ig)\n",
    "X_train_ig.columns[sel_five_cols.get_support()]"
   ]
  },
  {
   "cell_type": "code",
   "execution_count": 104,
   "id": "afefef6c",
   "metadata": {},
   "outputs": [],
   "source": [
    "X_ig = X_ig[['PRPSAP1', 'ODC1', 'ZNF10', 'NAV1', 'RAC3']]\n",
    "#y_ig = y_ig['Target']"
   ]
  },
  {
   "cell_type": "code",
   "execution_count": 105,
   "id": "90927c6d",
   "metadata": {},
   "outputs": [],
   "source": [
    "from sklearn.model_selection import train_test_split\n",
    "\n",
    "X_train_ig, X_test_ig, y_train_ig, y_test_ig = train_test_split(X_ig, y_ig, test_size=0.2, random_state=20)"
   ]
  },
  {
   "cell_type": "code",
   "execution_count": 106,
   "id": "c92955f9",
   "metadata": {},
   "outputs": [],
   "source": [
    "from sklearn.preprocessing import StandardScaler\n",
    "sc = StandardScaler() \n",
    "X_train_ig = sc.fit_transform(X_train_ig)\n",
    "X_test_ig = sc.fit_transform(X_test_ig)"
   ]
  },
  {
   "cell_type": "code",
   "execution_count": 107,
   "id": "65be56b7",
   "metadata": {},
   "outputs": [],
   "source": [
    "from sklearn.metrics import roc_curve, roc_auc_score\n",
    " \n",
    "classifiers = [ SVC(probability=True),\n",
    "                KNeighborsClassifier(), \n",
    "                DecisionTreeClassifier(),\n",
    "                ExtraTreesClassifier(),\n",
    "                RandomForestClassifier(),\n",
    "                AdaBoostClassifier(),\n",
    "                GaussianNB(),\n",
    "                MLPClassifier()\n",
    "                ]\n",
    "\n",
    "# Define a result table  (DataFrame)\n",
    "result_table = pd.DataFrame(columns=['classifiers', 'fpr','tpr','auc'])\n",
    "\n",
    "# Train the models \n",
    "for cls in classifiers:\n",
    "    model = cls.fit(X_train_ig, y_train_ig)\n",
    "    yproba_ig = model.predict_proba(X_test_ig)[::,1]\n",
    "    \n",
    "    fpr, tpr, _ = roc_curve(y_test_ig,  yproba_ig)\n",
    "    auc = roc_auc_score(y_test_ig, yproba_ig)\n",
    "    \n",
    "    result_table = result_table.append({'classifiers':cls.__class__.__name__,\n",
    "                                        'fpr':fpr, \n",
    "                                        'tpr':tpr, \n",
    "                                        'auc':auc}, ignore_index=True)\n",
    "\n",
    "# Set name of the classifiers as index labels\n",
    "result_table.set_index('classifiers', inplace=True)"
   ]
  },
  {
   "cell_type": "code",
   "execution_count": 108,
   "id": "661d80ff",
   "metadata": {},
   "outputs": [
    {
     "data": {
      "image/png": "[encoded data removed]",
      "text/plain": [
       "<Figure size 720x576 with 1 Axes>"
      ]
     },
     "metadata": {},
     "output_type": "display_data"
    }
   ],
   "source": [
    "fig = plt.figure(figsize=(10,8))\n",
    "\n",
    "for i in result_table.index:\n",
    "    plt.plot(result_table.loc[i]['fpr'], \n",
    "             result_table.loc[i]['tpr'], \n",
    "             label=\"{}, AUC={:.3f}\".format(i, result_table.loc[i]['auc']))\n",
    "    \n",
    "plt.plot([0,1], [0,1], color='orange', linestyle='--')\n",
    "\n",
    "plt.xticks(np.arange(0.0, 1.1, step=0.1))\n",
    "plt.xlabel(\"Flase Positive Rate\", fontsize=15)\n",
    "\n",
    "plt.yticks(np.arange(0.0, 1.1, step=0.1))\n",
    "plt.ylabel(\"True Positive Rate\", fontsize=15)\n",
    "\n",
    "plt.title('ROC Curve Analysis', fontweight='bold', fontsize=15)\n",
    "plt.legend(prop={'size':13}, loc='lower right')\n",
    "\n",
    "plt.show()"
   ]
  },
  {
   "cell_type": "code",
   "execution_count": 109,
   "id": "b28c88da",
   "metadata": {},
   "outputs": [],
   "source": [
    "names = [\"Linear_SVM\", \"Polynomial_SVM\", \"RBF_SVM\",\"Sigmoid_SVM\",\"Nearest_Neighbors\",\"Decision_Tree\",\n",
    "         \"Extra_Trees\", \"Random_Forest\",\"Naive_Bayes\",\"Neural_Net\"]\n",
    "\n",
    "classifiers = [\n",
    "    SVC(kernel ='linear'),\n",
    "    SVC(kernel ='poly'),\n",
    "    SVC(kernel ='rbf'),\n",
    "    SVC(kernel ='sigmoid'),\n",
    "    KNeighborsClassifier(),\n",
    "    DecisionTreeClassifier(),\n",
    "    ExtraTreesClassifier(),\n",
    "    RandomForestClassifier(),\n",
    "    GaussianNB(),\n",
    "    MLPClassifier()]"
   ]
  },
  {
   "cell_type": "code",
   "execution_count": 110,
   "id": "d0bef1d8",
   "metadata": {},
   "outputs": [
    {
     "name": "stdout",
     "output_type": "stream",
     "text": [
      "[[5 0]\n",
      " [3 4]]\n",
      "0.75\n",
      "              precision    recall  f1-score   support\n",
      "\n",
      "           0       0.62      1.00      0.77         5\n",
      "           1       1.00      0.57      0.73         7\n",
      "\n",
      "    accuracy                           0.75        12\n",
      "   macro avg       0.81      0.79      0.75        12\n",
      "weighted avg       0.84      0.75      0.74        12\n",
      "\n",
      "[[4 1]\n",
      " [6 1]]\n",
      "0.4166666666666667\n",
      "              precision    recall  f1-score   support\n",
      "\n",
      "           0       0.40      0.80      0.53         5\n",
      "           1       0.50      0.14      0.22         7\n",
      "\n",
      "    accuracy                           0.42        12\n",
      "   macro avg       0.45      0.47      0.38        12\n",
      "weighted avg       0.46      0.42      0.35        12\n",
      "\n",
      "[[5 0]\n",
      " [1 6]]\n",
      "0.9166666666666666\n",
      "              precision    recall  f1-score   support\n",
      "\n",
      "           0       0.83      1.00      0.91         5\n",
      "           1       1.00      0.86      0.92         7\n",
      "\n",
      "    accuracy                           0.92        12\n",
      "   macro avg       0.92      0.93      0.92        12\n",
      "weighted avg       0.93      0.92      0.92        12\n",
      "\n",
      "[[4 1]\n",
      " [2 5]]\n",
      "0.75\n",
      "              precision    recall  f1-score   support\n",
      "\n",
      "           0       0.67      0.80      0.73         5\n",
      "           1       0.83      0.71      0.77         7\n",
      "\n",
      "    accuracy                           0.75        12\n",
      "   macro avg       0.75      0.76      0.75        12\n",
      "weighted avg       0.76      0.75      0.75        12\n",
      "\n",
      "[[5 0]\n",
      " [2 5]]\n",
      "0.8333333333333334\n",
      "              precision    recall  f1-score   support\n",
      "\n",
      "           0       0.71      1.00      0.83         5\n",
      "           1       1.00      0.71      0.83         7\n",
      "\n",
      "    accuracy                           0.83        12\n",
      "   macro avg       0.86      0.86      0.83        12\n",
      "weighted avg       0.88      0.83      0.83        12\n",
      "\n",
      "[[4 1]\n",
      " [2 5]]\n",
      "0.75\n",
      "              precision    recall  f1-score   support\n",
      "\n",
      "           0       0.67      0.80      0.73         5\n",
      "           1       0.83      0.71      0.77         7\n",
      "\n",
      "    accuracy                           0.75        12\n",
      "   macro avg       0.75      0.76      0.75        12\n",
      "weighted avg       0.76      0.75      0.75        12\n",
      "\n",
      "[[3 2]\n",
      " [3 4]]\n",
      "0.5833333333333334\n",
      "              precision    recall  f1-score   support\n",
      "\n",
      "           0       0.50      0.60      0.55         5\n",
      "           1       0.67      0.57      0.62         7\n",
      "\n",
      "    accuracy                           0.58        12\n",
      "   macro avg       0.58      0.59      0.58        12\n",
      "weighted avg       0.60      0.58      0.59        12\n",
      "\n",
      "[[3 2]\n",
      " [3 4]]\n",
      "0.5833333333333334\n",
      "              precision    recall  f1-score   support\n",
      "\n",
      "           0       0.50      0.60      0.55         5\n",
      "           1       0.67      0.57      0.62         7\n",
      "\n",
      "    accuracy                           0.58        12\n",
      "   macro avg       0.58      0.59      0.58        12\n",
      "weighted avg       0.60      0.58      0.59        12\n",
      "\n",
      "[[3 2]\n",
      " [3 4]]\n",
      "0.5833333333333334\n",
      "              precision    recall  f1-score   support\n",
      "\n",
      "           0       0.50      0.60      0.55         5\n",
      "           1       0.67      0.57      0.62         7\n",
      "\n",
      "    accuracy                           0.58        12\n",
      "   macro avg       0.58      0.59      0.58        12\n",
      "weighted avg       0.60      0.58      0.59        12\n",
      "\n",
      "[[5 0]\n",
      " [2 5]]\n",
      "0.8333333333333334\n",
      "              precision    recall  f1-score   support\n",
      "\n",
      "           0       0.71      1.00      0.83         5\n",
      "           1       1.00      0.71      0.83         7\n",
      "\n",
      "    accuracy                           0.83        12\n",
      "   macro avg       0.86      0.86      0.83        12\n",
      "weighted avg       0.88      0.83      0.83        12\n",
      "\n"
     ]
    }
   ],
   "source": [
    "scores = []\n",
    "for name, clf in zip(names, classifiers):\n",
    "    clf.fit(X_train_ig,y_train_ig)\n",
    "    score = clf.score(X_test_ig, y_test_ig)\n",
    "    y_predict_ig = clf.predict(X_test_ig)\n",
    "    print(confusion_matrix(y_test_ig, y_predict_ig))\n",
    "    print(accuracy_score(y_test_ig, y_predict_ig))\n",
    "    print(classification_report(y_test_ig, y_predict_ig))\n",
    "    scores.append(score)"
   ]
  },
  {
   "cell_type": "code",
   "execution_count": 111,
   "id": "7ca51402",
   "metadata": {},
   "outputs": [
    {
     "data": {
      "text/plain": [
       "[0.75,\n",
       " 0.4166666666666667,\n",
       " 0.9166666666666666,\n",
       " 0.75,\n",
       " 0.8333333333333334,\n",
       " 0.75,\n",
       " 0.5833333333333334,\n",
       " 0.5833333333333334,\n",
       " 0.5833333333333334,\n",
       " 0.8333333333333334]"
      ]
     },
     "execution_count": 111,
     "metadata": {},
     "output_type": "execute_result"
    }
   ],
   "source": [
    "scores"
   ]
  },
  {
   "cell_type": "code",
   "execution_count": 112,
   "id": "b0a3b769",
   "metadata": {},
   "outputs": [
    {
     "data": {
      "text/html": [
       "<div>\n",
       "<style scoped>\n",
       "    .dataframe tbody tr th:only-of-type {\n",
       "        vertical-align: middle;\n",
       "    }\n",
       "\n",
       "    .dataframe tbody tr th {\n",
       "        vertical-align: top;\n",
       "    }\n",
       "\n",
       "    .dataframe thead th {\n",
       "        text-align: right;\n",
       "    }\n",
       "</style>\n",
       "<table border=\"1\" class=\"dataframe\">\n",
       "  <thead>\n",
       "    <tr style=\"text-align: right;\">\n",
       "      <th></th>\n",
       "      <th>name</th>\n",
       "      <th>score</th>\n",
       "    </tr>\n",
       "  </thead>\n",
       "  <tbody>\n",
       "    <tr>\n",
       "      <th>0</th>\n",
       "      <td>Linear_SVM</td>\n",
       "      <td>0.750000</td>\n",
       "    </tr>\n",
       "    <tr>\n",
       "      <th>1</th>\n",
       "      <td>Polynomial_SVM</td>\n",
       "      <td>0.416667</td>\n",
       "    </tr>\n",
       "    <tr>\n",
       "      <th>2</th>\n",
       "      <td>RBF_SVM</td>\n",
       "      <td>0.916667</td>\n",
       "    </tr>\n",
       "    <tr>\n",
       "      <th>3</th>\n",
       "      <td>Sigmoid_SVM</td>\n",
       "      <td>0.750000</td>\n",
       "    </tr>\n",
       "    <tr>\n",
       "      <th>4</th>\n",
       "      <td>Nearest_Neighbors</td>\n",
       "      <td>0.833333</td>\n",
       "    </tr>\n",
       "    <tr>\n",
       "      <th>5</th>\n",
       "      <td>Decision_Tree</td>\n",
       "      <td>0.750000</td>\n",
       "    </tr>\n",
       "    <tr>\n",
       "      <th>6</th>\n",
       "      <td>Extra_Trees</td>\n",
       "      <td>0.583333</td>\n",
       "    </tr>\n",
       "    <tr>\n",
       "      <th>7</th>\n",
       "      <td>Random_Forest</td>\n",
       "      <td>0.583333</td>\n",
       "    </tr>\n",
       "    <tr>\n",
       "      <th>8</th>\n",
       "      <td>Naive_Bayes</td>\n",
       "      <td>0.583333</td>\n",
       "    </tr>\n",
       "    <tr>\n",
       "      <th>9</th>\n",
       "      <td>Neural_Net</td>\n",
       "      <td>0.833333</td>\n",
       "    </tr>\n",
       "  </tbody>\n",
       "</table>\n",
       "</div>"
      ],
      "text/plain": [
       "                name     score\n",
       "0         Linear_SVM  0.750000\n",
       "1     Polynomial_SVM  0.416667\n",
       "2            RBF_SVM  0.916667\n",
       "3        Sigmoid_SVM  0.750000\n",
       "4  Nearest_Neighbors  0.833333\n",
       "5      Decision_Tree  0.750000\n",
       "6        Extra_Trees  0.583333\n",
       "7      Random_Forest  0.583333\n",
       "8        Naive_Bayes  0.583333\n",
       "9         Neural_Net  0.833333"
      ]
     },
     "execution_count": 112,
     "metadata": {},
     "output_type": "execute_result"
    }
   ],
   "source": [
    "df = pd.DataFrame()\n",
    "df['name'] = names\n",
    "df['score'] = scores\n",
    "df"
   ]
  },
  {
   "cell_type": "code",
   "execution_count": 113,
   "id": "d40217a1",
   "metadata": {},
   "outputs": [
    {
     "data": {
      "text/html": [
       "<style  type=\"text/css\" >\n",
       "    #T_e20b4bb1_a392_11ed_a03b_00090ffe0001row0_col1 {\n",
       "            background-color:  #4ea64e;\n",
       "            color:  #000000;\n",
       "        }    #T_e20b4bb1_a392_11ed_a03b_00090ffe0001row1_col1 {\n",
       "            background-color:  #ebf3eb;\n",
       "            color:  #000000;\n",
       "        }    #T_e20b4bb1_a392_11ed_a03b_00090ffe0001row2_col1 {\n",
       "            background-color:  #008000;\n",
       "            color:  #f1f1f1;\n",
       "        }    #T_e20b4bb1_a392_11ed_a03b_00090ffe0001row3_col1 {\n",
       "            background-color:  #4ea64e;\n",
       "            color:  #000000;\n",
       "        }    #T_e20b4bb1_a392_11ed_a03b_00090ffe0001row4_col1 {\n",
       "            background-color:  #279327;\n",
       "            color:  #000000;\n",
       "        }    #T_e20b4bb1_a392_11ed_a03b_00090ffe0001row5_col1 {\n",
       "            background-color:  #4ea64e;\n",
       "            color:  #000000;\n",
       "        }    #T_e20b4bb1_a392_11ed_a03b_00090ffe0001row6_col1 {\n",
       "            background-color:  #9ccd9c;\n",
       "            color:  #000000;\n",
       "        }    #T_e20b4bb1_a392_11ed_a03b_00090ffe0001row7_col1 {\n",
       "            background-color:  #9ccd9c;\n",
       "            color:  #000000;\n",
       "        }    #T_e20b4bb1_a392_11ed_a03b_00090ffe0001row8_col1 {\n",
       "            background-color:  #9ccd9c;\n",
       "            color:  #000000;\n",
       "        }    #T_e20b4bb1_a392_11ed_a03b_00090ffe0001row9_col1 {\n",
       "            background-color:  #279327;\n",
       "            color:  #000000;\n",
       "        }</style><table id=\"T_e20b4bb1_a392_11ed_a03b_00090ffe0001\" ><thead>    <tr>        <th class=\"blank level0\" ></th>        <th class=\"col_heading level0 col0\" >name</th>        <th class=\"col_heading level0 col1\" >score</th>    </tr></thead><tbody>\n",
       "                <tr>\n",
       "                        <th id=\"T_e20b4bb1_a392_11ed_a03b_00090ffe0001level0_row0\" class=\"row_heading level0 row0\" >0</th>\n",
       "                        <td id=\"T_e20b4bb1_a392_11ed_a03b_00090ffe0001row0_col0\" class=\"data row0 col0\" >Linear_SVM</td>\n",
       "                        <td id=\"T_e20b4bb1_a392_11ed_a03b_00090ffe0001row0_col1\" class=\"data row0 col1\" >0.750000</td>\n",
       "            </tr>\n",
       "            <tr>\n",
       "                        <th id=\"T_e20b4bb1_a392_11ed_a03b_00090ffe0001level0_row1\" class=\"row_heading level0 row1\" >1</th>\n",
       "                        <td id=\"T_e20b4bb1_a392_11ed_a03b_00090ffe0001row1_col0\" class=\"data row1 col0\" >Polynomial_SVM</td>\n",
       "                        <td id=\"T_e20b4bb1_a392_11ed_a03b_00090ffe0001row1_col1\" class=\"data row1 col1\" >0.416667</td>\n",
       "            </tr>\n",
       "            <tr>\n",
       "                        <th id=\"T_e20b4bb1_a392_11ed_a03b_00090ffe0001level0_row2\" class=\"row_heading level0 row2\" >2</th>\n",
       "                        <td id=\"T_e20b4bb1_a392_11ed_a03b_00090ffe0001row2_col0\" class=\"data row2 col0\" >RBF_SVM</td>\n",
       "                        <td id=\"T_e20b4bb1_a392_11ed_a03b_00090ffe0001row2_col1\" class=\"data row2 col1\" >0.916667</td>\n",
       "            </tr>\n",
       "            <tr>\n",
       "                        <th id=\"T_e20b4bb1_a392_11ed_a03b_00090ffe0001level0_row3\" class=\"row_heading level0 row3\" >3</th>\n",
       "                        <td id=\"T_e20b4bb1_a392_11ed_a03b_00090ffe0001row3_col0\" class=\"data row3 col0\" >Sigmoid_SVM</td>\n",
       "                        <td id=\"T_e20b4bb1_a392_11ed_a03b_00090ffe0001row3_col1\" class=\"data row3 col1\" >0.750000</td>\n",
       "            </tr>\n",
       "            <tr>\n",
       "                        <th id=\"T_e20b4bb1_a392_11ed_a03b_00090ffe0001level0_row4\" class=\"row_heading level0 row4\" >4</th>\n",
       "                        <td id=\"T_e20b4bb1_a392_11ed_a03b_00090ffe0001row4_col0\" class=\"data row4 col0\" >Nearest_Neighbors</td>\n",
       "                        <td id=\"T_e20b4bb1_a392_11ed_a03b_00090ffe0001row4_col1\" class=\"data row4 col1\" >0.833333</td>\n",
       "            </tr>\n",
       "            <tr>\n",
       "                        <th id=\"T_e20b4bb1_a392_11ed_a03b_00090ffe0001level0_row5\" class=\"row_heading level0 row5\" >5</th>\n",
       "                        <td id=\"T_e20b4bb1_a392_11ed_a03b_00090ffe0001row5_col0\" class=\"data row5 col0\" >Decision_Tree</td>\n",
       "                        <td id=\"T_e20b4bb1_a392_11ed_a03b_00090ffe0001row5_col1\" class=\"data row5 col1\" >0.750000</td>\n",
       "            </tr>\n",
       "            <tr>\n",
       "                        <th id=\"T_e20b4bb1_a392_11ed_a03b_00090ffe0001level0_row6\" class=\"row_heading level0 row6\" >6</th>\n",
       "                        <td id=\"T_e20b4bb1_a392_11ed_a03b_00090ffe0001row6_col0\" class=\"data row6 col0\" >Extra_Trees</td>\n",
       "                        <td id=\"T_e20b4bb1_a392_11ed_a03b_00090ffe0001row6_col1\" class=\"data row6 col1\" >0.583333</td>\n",
       "            </tr>\n",
       "            <tr>\n",
       "                        <th id=\"T_e20b4bb1_a392_11ed_a03b_00090ffe0001level0_row7\" class=\"row_heading level0 row7\" >7</th>\n",
       "                        <td id=\"T_e20b4bb1_a392_11ed_a03b_00090ffe0001row7_col0\" class=\"data row7 col0\" >Random_Forest</td>\n",
       "                        <td id=\"T_e20b4bb1_a392_11ed_a03b_00090ffe0001row7_col1\" class=\"data row7 col1\" >0.583333</td>\n",
       "            </tr>\n",
       "            <tr>\n",
       "                        <th id=\"T_e20b4bb1_a392_11ed_a03b_00090ffe0001level0_row8\" class=\"row_heading level0 row8\" >8</th>\n",
       "                        <td id=\"T_e20b4bb1_a392_11ed_a03b_00090ffe0001row8_col0\" class=\"data row8 col0\" >Naive_Bayes</td>\n",
       "                        <td id=\"T_e20b4bb1_a392_11ed_a03b_00090ffe0001row8_col1\" class=\"data row8 col1\" >0.583333</td>\n",
       "            </tr>\n",
       "            <tr>\n",
       "                        <th id=\"T_e20b4bb1_a392_11ed_a03b_00090ffe0001level0_row9\" class=\"row_heading level0 row9\" >9</th>\n",
       "                        <td id=\"T_e20b4bb1_a392_11ed_a03b_00090ffe0001row9_col0\" class=\"data row9 col0\" >Neural_Net</td>\n",
       "                        <td id=\"T_e20b4bb1_a392_11ed_a03b_00090ffe0001row9_col1\" class=\"data row9 col1\" >0.833333</td>\n",
       "            </tr>\n",
       "    </tbody></table>"
      ],
      "text/plain": [
       "<pandas.io.formats.style.Styler at 0x178cb6a0a0>"
      ]
     },
     "execution_count": 113,
     "metadata": {},
     "output_type": "execute_result"
    }
   ],
   "source": [
    "cm = sns.light_palette(\"green\", as_cmap=True)\n",
    "s = df.style.background_gradient(cmap=cm)\n",
    "s"
   ]
  },
  {
   "cell_type": "code",
   "execution_count": 114,
   "id": "eadc4398",
   "metadata": {},
   "outputs": [
    {
     "data": {
      "image/png": "[encoded data removed]",
      "text/plain": [
       "<Figure size 432x288 with 1 Axes>"
      ]
     },
     "metadata": {},
     "output_type": "display_data"
    }
   ],
   "source": [
    "sns.set(style=\"whitegrid\")\n",
    "ax = sns.barplot(y=\"name\", x=\"score\", data=df)"
   ]
  },
  {
   "cell_type": "code",
   "execution_count": 115,
   "id": "ad31be28",
   "metadata": {},
   "outputs": [],
   "source": [
    "# Full Data set from mRMR (Minimum Redundancy Maximum Relevance)\n",
    "dataset_ig = pd.read_csv(\"D:/blood_data_set.csv\")\n",
    "X_ig = dataset_ig.drop('Target', axis = 1)\n",
    "y_ig = dataset_ig['Target']"
   ]
  },
  {
   "cell_type": "code",
   "execution_count": 116,
   "id": "5981b02e",
   "metadata": {},
   "outputs": [
    {
     "name": "stderr",
     "output_type": "stream",
     "text": [
      "100%|████████████████████████████████████████████| 5/5 [00:07<00:00,  1.45s/it]\n"
     ]
    }
   ],
   "source": [
    "# create some pandas data\n",
    "from sklearn.datasets import make_classification\n",
    "# select top 10 features using mRMR\n",
    "from mrmr import mrmr_classif\n",
    "selected_features = mrmr_classif(X=X_ig, y=y_ig, K=5)"
   ]
  },
  {
   "cell_type": "code",
   "execution_count": 117,
   "id": "30ee5195",
   "metadata": {},
   "outputs": [
    {
     "data": {
      "text/plain": [
       "['SPERT', 'WNT3', 'FAM203A', 'TNFRSF12A', 'RPS9']"
      ]
     },
     "execution_count": 117,
     "metadata": {},
     "output_type": "execute_result"
    }
   ],
   "source": [
    "selected_features"
   ]
  },
  {
   "cell_type": "code",
   "execution_count": 118,
   "id": "81d6f252",
   "metadata": {},
   "outputs": [],
   "source": [
    "X_mrmr = X_ig[['SPERT', 'WNT3', 'FAM203A', 'TNFRSF12A', 'RPS9']]\n",
    "y_mrmr = dataset_ig['Target']\n",
    "X_train_mrmr, X_test_mrmr, y_train_mrmr, y_test_mrmr = train_test_split(X_mrmr, y_mrmr, test_size=0.2, random_state=0)"
   ]
  },
  {
   "cell_type": "code",
   "execution_count": 119,
   "id": "cdfea7ca",
   "metadata": {},
   "outputs": [],
   "source": [
    "from sklearn.preprocessing import StandardScaler\n",
    "sc = StandardScaler() \n",
    "X_train_mrmr = sc.fit_transform(X_train_mrmr)\n",
    "X_test_mrmr = sc.fit_transform(X_test_mrmr)\n",
    "X_mrmr = sc.fit_transform(X_mrmr)"
   ]
  },
  {
   "cell_type": "code",
   "execution_count": 120,
   "id": "2511d456",
   "metadata": {},
   "outputs": [],
   "source": [
    "from sklearn.metrics import roc_curve, roc_auc_score\n",
    " \n",
    "classifiers = [ SVC(probability=True),\n",
    "                KNeighborsClassifier(), \n",
    "                DecisionTreeClassifier(),\n",
    "                ExtraTreesClassifier(),\n",
    "                RandomForestClassifier(),\n",
    "                GaussianNB(),\n",
    "                MLPClassifier()\n",
    "                ]\n",
    "\n",
    "# Define a result table  (DataFrame)\n",
    "result_table = pd.DataFrame(columns=['classifiers', 'fpr','tpr','auc'])\n",
    "\n",
    "# Train the models \n",
    "for cls in classifiers:\n",
    "    model = cls.fit(X_train_mrmr, y_train_mrmr)\n",
    "    yproba_mrmr = model.predict_proba(X_test_mrmr)[::,1]\n",
    "    \n",
    "    fpr, tpr, _ = roc_curve(y_test_mrmr,  yproba_mrmr)\n",
    "    auc = roc_auc_score(y_test_mrmr, yproba_mrmr)\n",
    "    \n",
    "    result_table = result_table.append({'classifiers':cls.__class__.__name__,\n",
    "                                        'fpr':fpr, \n",
    "                                        'tpr':tpr, \n",
    "                                        'auc':auc}, ignore_index=True)\n",
    "\n",
    "# Set name of the classifiers as index labels\n",
    "result_table.set_index('classifiers', inplace=True)"
   ]
  },
  {
   "cell_type": "code",
   "execution_count": 121,
   "id": "4506e635",
   "metadata": {},
   "outputs": [
    {
     "data": {
      "image/png": "[encoded data removed]",
      "text/plain": [
       "<Figure size 720x576 with 1 Axes>"
      ]
     },
     "metadata": {},
     "output_type": "display_data"
    }
   ],
   "source": [
    "fig = plt.figure(figsize=(10,8))\n",
    "\n",
    "for i in result_table.index:\n",
    "    plt.plot(result_table.loc[i]['fpr'], \n",
    "             result_table.loc[i]['tpr'], \n",
    "             label=\"{}, AUC={:.3f}\".format(i, result_table.loc[i]['auc']))\n",
    "    \n",
    "plt.plot([0,1], [0,1], color='orange', linestyle='--')\n",
    "\n",
    "plt.xticks(np.arange(0.0, 1.1, step=0.1))\n",
    "plt.xlabel(\"Flase Positive Rate\", fontsize=15)\n",
    "\n",
    "plt.yticks(np.arange(0.0, 1.1, step=0.1))\n",
    "plt.ylabel(\"True Positive Rate\", fontsize=15)\n",
    "\n",
    "plt.title('ROC Curve Analysis', fontweight='bold', fontsize=15)\n",
    "plt.legend(prop={'size':13}, loc='lower right')\n",
    "\n",
    "plt.show()"
   ]
  },
  {
   "cell_type": "code",
   "execution_count": 122,
   "id": "13d78d06",
   "metadata": {},
   "outputs": [],
   "source": [
    "names = [\"Linear_SVM\", \"Polynomial_SVM\", \"RBF_SVM\",\"Sigmoid_SVM\",\"Nearest_Neighbors\",\"Decision_Tree\",\n",
    "         \"Extra_Trees\", \"Random_Forest\",\"Naive_Bayes\",\"Neural_Net\"]\n",
    "\n",
    "classifiers = [\n",
    "    SVC(kernel ='linear'),\n",
    "    SVC(kernel ='poly'),\n",
    "    SVC(kernel ='rbf'),\n",
    "    SVC(kernel ='sigmoid'),\n",
    "    KNeighborsClassifier(),\n",
    "    DecisionTreeClassifier(),\n",
    "    ExtraTreesClassifier(),\n",
    "    RandomForestClassifier(),\n",
    "    GaussianNB(),\n",
    "    MLPClassifier()]"
   ]
  },
  {
   "cell_type": "code",
   "execution_count": 123,
   "id": "7f7eec7a",
   "metadata": {},
   "outputs": [
    {
     "name": "stdout",
     "output_type": "stream",
     "text": [
      "[[5 0]\n",
      " [3 4]]\n",
      "0.75\n",
      "              precision    recall  f1-score   support\n",
      "\n",
      "           0       0.62      1.00      0.77         5\n",
      "           1       1.00      0.57      0.73         7\n",
      "\n",
      "    accuracy                           0.75        12\n",
      "   macro avg       0.81      0.79      0.75        12\n",
      "weighted avg       0.84      0.75      0.74        12\n",
      "\n",
      "[[3 2]\n",
      " [1 6]]\n",
      "0.75\n",
      "              precision    recall  f1-score   support\n",
      "\n",
      "           0       0.75      0.60      0.67         5\n",
      "           1       0.75      0.86      0.80         7\n",
      "\n",
      "    accuracy                           0.75        12\n",
      "   macro avg       0.75      0.73      0.73        12\n",
      "weighted avg       0.75      0.75      0.74        12\n",
      "\n",
      "[[5 0]\n",
      " [4 3]]\n",
      "0.6666666666666666\n",
      "              precision    recall  f1-score   support\n",
      "\n",
      "           0       0.56      1.00      0.71         5\n",
      "           1       1.00      0.43      0.60         7\n",
      "\n",
      "    accuracy                           0.67        12\n",
      "   macro avg       0.78      0.71      0.66        12\n",
      "weighted avg       0.81      0.67      0.65        12\n",
      "\n",
      "[[5 0]\n",
      " [2 5]]\n",
      "0.8333333333333334\n",
      "              precision    recall  f1-score   support\n",
      "\n",
      "           0       0.71      1.00      0.83         5\n",
      "           1       1.00      0.71      0.83         7\n",
      "\n",
      "    accuracy                           0.83        12\n",
      "   macro avg       0.86      0.86      0.83        12\n",
      "weighted avg       0.88      0.83      0.83        12\n",
      "\n",
      "[[5 0]\n",
      " [3 4]]\n",
      "0.75\n",
      "              precision    recall  f1-score   support\n",
      "\n",
      "           0       0.62      1.00      0.77         5\n",
      "           1       1.00      0.57      0.73         7\n",
      "\n",
      "    accuracy                           0.75        12\n",
      "   macro avg       0.81      0.79      0.75        12\n",
      "weighted avg       0.84      0.75      0.74        12\n",
      "\n",
      "[[3 2]\n",
      " [3 4]]\n",
      "0.5833333333333334\n",
      "              precision    recall  f1-score   support\n",
      "\n",
      "           0       0.50      0.60      0.55         5\n",
      "           1       0.67      0.57      0.62         7\n",
      "\n",
      "    accuracy                           0.58        12\n",
      "   macro avg       0.58      0.59      0.58        12\n",
      "weighted avg       0.60      0.58      0.59        12\n",
      "\n",
      "[[5 0]\n",
      " [3 4]]\n",
      "0.75\n",
      "              precision    recall  f1-score   support\n",
      "\n",
      "           0       0.62      1.00      0.77         5\n",
      "           1       1.00      0.57      0.73         7\n",
      "\n",
      "    accuracy                           0.75        12\n",
      "   macro avg       0.81      0.79      0.75        12\n",
      "weighted avg       0.84      0.75      0.74        12\n",
      "\n",
      "[[5 0]\n",
      " [2 5]]\n",
      "0.8333333333333334\n",
      "              precision    recall  f1-score   support\n",
      "\n",
      "           0       0.71      1.00      0.83         5\n",
      "           1       1.00      0.71      0.83         7\n",
      "\n",
      "    accuracy                           0.83        12\n",
      "   macro avg       0.86      0.86      0.83        12\n",
      "weighted avg       0.88      0.83      0.83        12\n",
      "\n",
      "[[5 0]\n",
      " [3 4]]\n",
      "0.75\n",
      "              precision    recall  f1-score   support\n",
      "\n",
      "           0       0.62      1.00      0.77         5\n",
      "           1       1.00      0.57      0.73         7\n",
      "\n",
      "    accuracy                           0.75        12\n",
      "   macro avg       0.81      0.79      0.75        12\n",
      "weighted avg       0.84      0.75      0.74        12\n",
      "\n",
      "[[5 0]\n",
      " [3 4]]\n",
      "0.75\n",
      "              precision    recall  f1-score   support\n",
      "\n",
      "           0       0.62      1.00      0.77         5\n",
      "           1       1.00      0.57      0.73         7\n",
      "\n",
      "    accuracy                           0.75        12\n",
      "   macro avg       0.81      0.79      0.75        12\n",
      "weighted avg       0.84      0.75      0.74        12\n",
      "\n"
     ]
    }
   ],
   "source": [
    "scores = []\n",
    "for name, clf in zip(names, classifiers):\n",
    "    clf.fit(X_train_mrmr,y_train_mrmr)\n",
    "    score = clf.score(X_test_mrmr, y_test_mrmr)\n",
    "    y_predict_mrmr = clf.predict(X_test_mrmr)\n",
    "    print(confusion_matrix(y_test_mrmr, y_predict_mrmr))\n",
    "    print(accuracy_score(y_test_mrmr, y_predict_mrmr))\n",
    "    print(classification_report(y_test_mrmr, y_predict_mrmr))\n",
    "    scores.append(score)"
   ]
  },
  {
   "cell_type": "code",
   "execution_count": 124,
   "id": "1cb903c6",
   "metadata": {},
   "outputs": [
    {
     "data": {
      "text/plain": [
       "[0.75,\n",
       " 0.75,\n",
       " 0.6666666666666666,\n",
       " 0.8333333333333334,\n",
       " 0.75,\n",
       " 0.5833333333333334,\n",
       " 0.75,\n",
       " 0.8333333333333334,\n",
       " 0.75,\n",
       " 0.75]"
      ]
     },
     "execution_count": 124,
     "metadata": {},
     "output_type": "execute_result"
    }
   ],
   "source": [
    "scores"
   ]
  },
  {
   "cell_type": "code",
   "execution_count": 125,
   "id": "11909dd1",
   "metadata": {},
   "outputs": [
    {
     "data": {
      "text/html": [
       "<div>\n",
       "<style scoped>\n",
       "    .dataframe tbody tr th:only-of-type {\n",
       "        vertical-align: middle;\n",
       "    }\n",
       "\n",
       "    .dataframe tbody tr th {\n",
       "        vertical-align: top;\n",
       "    }\n",
       "\n",
       "    .dataframe thead th {\n",
       "        text-align: right;\n",
       "    }\n",
       "</style>\n",
       "<table border=\"1\" class=\"dataframe\">\n",
       "  <thead>\n",
       "    <tr style=\"text-align: right;\">\n",
       "      <th></th>\n",
       "      <th>name</th>\n",
       "      <th>score</th>\n",
       "    </tr>\n",
       "  </thead>\n",
       "  <tbody>\n",
       "    <tr>\n",
       "      <th>0</th>\n",
       "      <td>Linear_SVM</td>\n",
       "      <td>0.750000</td>\n",
       "    </tr>\n",
       "    <tr>\n",
       "      <th>1</th>\n",
       "      <td>Polynomial_SVM</td>\n",
       "      <td>0.750000</td>\n",
       "    </tr>\n",
       "    <tr>\n",
       "      <th>2</th>\n",
       "      <td>RBF_SVM</td>\n",
       "      <td>0.666667</td>\n",
       "    </tr>\n",
       "    <tr>\n",
       "      <th>3</th>\n",
       "      <td>Sigmoid_SVM</td>\n",
       "      <td>0.833333</td>\n",
       "    </tr>\n",
       "    <tr>\n",
       "      <th>4</th>\n",
       "      <td>Nearest_Neighbors</td>\n",
       "      <td>0.750000</td>\n",
       "    </tr>\n",
       "    <tr>\n",
       "      <th>5</th>\n",
       "      <td>Decision_Tree</td>\n",
       "      <td>0.583333</td>\n",
       "    </tr>\n",
       "    <tr>\n",
       "      <th>6</th>\n",
       "      <td>Extra_Trees</td>\n",
       "      <td>0.750000</td>\n",
       "    </tr>\n",
       "    <tr>\n",
       "      <th>7</th>\n",
       "      <td>Random_Forest</td>\n",
       "      <td>0.833333</td>\n",
       "    </tr>\n",
       "    <tr>\n",
       "      <th>8</th>\n",
       "      <td>Naive_Bayes</td>\n",
       "      <td>0.750000</td>\n",
       "    </tr>\n",
       "    <tr>\n",
       "      <th>9</th>\n",
       "      <td>Neural_Net</td>\n",
       "      <td>0.750000</td>\n",
       "    </tr>\n",
       "  </tbody>\n",
       "</table>\n",
       "</div>"
      ],
      "text/plain": [
       "                name     score\n",
       "0         Linear_SVM  0.750000\n",
       "1     Polynomial_SVM  0.750000\n",
       "2            RBF_SVM  0.666667\n",
       "3        Sigmoid_SVM  0.833333\n",
       "4  Nearest_Neighbors  0.750000\n",
       "5      Decision_Tree  0.583333\n",
       "6        Extra_Trees  0.750000\n",
       "7      Random_Forest  0.833333\n",
       "8        Naive_Bayes  0.750000\n",
       "9         Neural_Net  0.750000"
      ]
     },
     "execution_count": 125,
     "metadata": {},
     "output_type": "execute_result"
    }
   ],
   "source": [
    "df = pd.DataFrame()\n",
    "df['name'] = names\n",
    "df['score'] = scores\n",
    "df"
   ]
  },
  {
   "cell_type": "code",
   "execution_count": 126,
   "id": "38f0284b",
   "metadata": {},
   "outputs": [
    {
     "data": {
      "text/html": [
       "<style  type=\"text/css\" >\n",
       "    #T_1f4735c8_a393_11ed_a1b3_00090ffe0001row0_col1 {\n",
       "            background-color:  #4ea64e;\n",
       "            color:  #000000;\n",
       "        }    #T_1f4735c8_a393_11ed_a1b3_00090ffe0001row1_col1 {\n",
       "            background-color:  #4ea64e;\n",
       "            color:  #000000;\n",
       "        }    #T_1f4735c8_a393_11ed_a1b3_00090ffe0001row2_col1 {\n",
       "            background-color:  #9ccd9c;\n",
       "            color:  #000000;\n",
       "        }    #T_1f4735c8_a393_11ed_a1b3_00090ffe0001row3_col1 {\n",
       "            background-color:  #008000;\n",
       "            color:  #f1f1f1;\n",
       "        }    #T_1f4735c8_a393_11ed_a1b3_00090ffe0001row4_col1 {\n",
       "            background-color:  #4ea64e;\n",
       "            color:  #000000;\n",
       "        }    #T_1f4735c8_a393_11ed_a1b3_00090ffe0001row5_col1 {\n",
       "            background-color:  #ebf3eb;\n",
       "            color:  #000000;\n",
       "        }    #T_1f4735c8_a393_11ed_a1b3_00090ffe0001row6_col1 {\n",
       "            background-color:  #4ea64e;\n",
       "            color:  #000000;\n",
       "        }    #T_1f4735c8_a393_11ed_a1b3_00090ffe0001row7_col1 {\n",
       "            background-color:  #008000;\n",
       "            color:  #f1f1f1;\n",
       "        }    #T_1f4735c8_a393_11ed_a1b3_00090ffe0001row8_col1 {\n",
       "            background-color:  #4ea64e;\n",
       "            color:  #000000;\n",
       "        }    #T_1f4735c8_a393_11ed_a1b3_00090ffe0001row9_col1 {\n",
       "            background-color:  #4ea64e;\n",
       "            color:  #000000;\n",
       "        }</style><table id=\"T_1f4735c8_a393_11ed_a1b3_00090ffe0001\" ><thead>    <tr>        <th class=\"blank level0\" ></th>        <th class=\"col_heading level0 col0\" >name</th>        <th class=\"col_heading level0 col1\" >score</th>    </tr></thead><tbody>\n",
       "                <tr>\n",
       "                        <th id=\"T_1f4735c8_a393_11ed_a1b3_00090ffe0001level0_row0\" class=\"row_heading level0 row0\" >0</th>\n",
       "                        <td id=\"T_1f4735c8_a393_11ed_a1b3_00090ffe0001row0_col0\" class=\"data row0 col0\" >Linear_SVM</td>\n",
       "                        <td id=\"T_1f4735c8_a393_11ed_a1b3_00090ffe0001row0_col1\" class=\"data row0 col1\" >0.750000</td>\n",
       "            </tr>\n",
       "            <tr>\n",
       "                        <th id=\"T_1f4735c8_a393_11ed_a1b3_00090ffe0001level0_row1\" class=\"row_heading level0 row1\" >1</th>\n",
       "                        <td id=\"T_1f4735c8_a393_11ed_a1b3_00090ffe0001row1_col0\" class=\"data row1 col0\" >Polynomial_SVM</td>\n",
       "                        <td id=\"T_1f4735c8_a393_11ed_a1b3_00090ffe0001row1_col1\" class=\"data row1 col1\" >0.750000</td>\n",
       "            </tr>\n",
       "            <tr>\n",
       "                        <th id=\"T_1f4735c8_a393_11ed_a1b3_00090ffe0001level0_row2\" class=\"row_heading level0 row2\" >2</th>\n",
       "                        <td id=\"T_1f4735c8_a393_11ed_a1b3_00090ffe0001row2_col0\" class=\"data row2 col0\" >RBF_SVM</td>\n",
       "                        <td id=\"T_1f4735c8_a393_11ed_a1b3_00090ffe0001row2_col1\" class=\"data row2 col1\" >0.666667</td>\n",
       "            </tr>\n",
       "            <tr>\n",
       "                        <th id=\"T_1f4735c8_a393_11ed_a1b3_00090ffe0001level0_row3\" class=\"row_heading level0 row3\" >3</th>\n",
       "                        <td id=\"T_1f4735c8_a393_11ed_a1b3_00090ffe0001row3_col0\" class=\"data row3 col0\" >Sigmoid_SVM</td>\n",
       "                        <td id=\"T_1f4735c8_a393_11ed_a1b3_00090ffe0001row3_col1\" class=\"data row3 col1\" >0.833333</td>\n",
       "            </tr>\n",
       "            <tr>\n",
       "                        <th id=\"T_1f4735c8_a393_11ed_a1b3_00090ffe0001level0_row4\" class=\"row_heading level0 row4\" >4</th>\n",
       "                        <td id=\"T_1f4735c8_a393_11ed_a1b3_00090ffe0001row4_col0\" class=\"data row4 col0\" >Nearest_Neighbors</td>\n",
       "                        <td id=\"T_1f4735c8_a393_11ed_a1b3_00090ffe0001row4_col1\" class=\"data row4 col1\" >0.750000</td>\n",
       "            </tr>\n",
       "            <tr>\n",
       "                        <th id=\"T_1f4735c8_a393_11ed_a1b3_00090ffe0001level0_row5\" class=\"row_heading level0 row5\" >5</th>\n",
       "                        <td id=\"T_1f4735c8_a393_11ed_a1b3_00090ffe0001row5_col0\" class=\"data row5 col0\" >Decision_Tree</td>\n",
       "                        <td id=\"T_1f4735c8_a393_11ed_a1b3_00090ffe0001row5_col1\" class=\"data row5 col1\" >0.583333</td>\n",
       "            </tr>\n",
       "            <tr>\n",
       "                        <th id=\"T_1f4735c8_a393_11ed_a1b3_00090ffe0001level0_row6\" class=\"row_heading level0 row6\" >6</th>\n",
       "                        <td id=\"T_1f4735c8_a393_11ed_a1b3_00090ffe0001row6_col0\" class=\"data row6 col0\" >Extra_Trees</td>\n",
       "                        <td id=\"T_1f4735c8_a393_11ed_a1b3_00090ffe0001row6_col1\" class=\"data row6 col1\" >0.750000</td>\n",
       "            </tr>\n",
       "            <tr>\n",
       "                        <th id=\"T_1f4735c8_a393_11ed_a1b3_00090ffe0001level0_row7\" class=\"row_heading level0 row7\" >7</th>\n",
       "                        <td id=\"T_1f4735c8_a393_11ed_a1b3_00090ffe0001row7_col0\" class=\"data row7 col0\" >Random_Forest</td>\n",
       "                        <td id=\"T_1f4735c8_a393_11ed_a1b3_00090ffe0001row7_col1\" class=\"data row7 col1\" >0.833333</td>\n",
       "            </tr>\n",
       "            <tr>\n",
       "                        <th id=\"T_1f4735c8_a393_11ed_a1b3_00090ffe0001level0_row8\" class=\"row_heading level0 row8\" >8</th>\n",
       "                        <td id=\"T_1f4735c8_a393_11ed_a1b3_00090ffe0001row8_col0\" class=\"data row8 col0\" >Naive_Bayes</td>\n",
       "                        <td id=\"T_1f4735c8_a393_11ed_a1b3_00090ffe0001row8_col1\" class=\"data row8 col1\" >0.750000</td>\n",
       "            </tr>\n",
       "            <tr>\n",
       "                        <th id=\"T_1f4735c8_a393_11ed_a1b3_00090ffe0001level0_row9\" class=\"row_heading level0 row9\" >9</th>\n",
       "                        <td id=\"T_1f4735c8_a393_11ed_a1b3_00090ffe0001row9_col0\" class=\"data row9 col0\" >Neural_Net</td>\n",
       "                        <td id=\"T_1f4735c8_a393_11ed_a1b3_00090ffe0001row9_col1\" class=\"data row9 col1\" >0.750000</td>\n",
       "            </tr>\n",
       "    </tbody></table>"
      ],
      "text/plain": [
       "<pandas.io.formats.style.Styler at 0x178cace6d0>"
      ]
     },
     "execution_count": 126,
     "metadata": {},
     "output_type": "execute_result"
    }
   ],
   "source": [
    "cm = sns.light_palette(\"green\", as_cmap=True)\n",
    "s = df.style.background_gradient(cmap=cm)\n",
    "s"
   ]
  },
  {
   "cell_type": "code",
   "execution_count": 127,
   "id": "b22409d6",
   "metadata": {},
   "outputs": [
    {
     "data": {
      "image/png": "[encoded data removed]",
      "text/plain": [
       "<Figure size 432x288 with 1 Axes>"
      ]
     },
     "metadata": {},
     "output_type": "display_data"
    }
   ],
   "source": [
    "sns.set(style=\"whitegrid\")\n",
    "ax = sns.barplot(y=\"name\", x=\"score\", data=df)"
   ]
  },
  {
   "cell_type": "code",
   "execution_count": 7,
   "id": "ae90f27c",
   "metadata": {},
   "outputs": [],
   "source": [
    "# Dataset prepared with Log2foldchange < -1 and p-value less than 0.05\n",
    "dataset_ig = pd.read_csv(\"D:/g1_dr-1.csv\")\n",
    "X_ig = dataset_ig.drop('Target', axis = 1)\n",
    "y_ig = dataset_ig['Target']\n",
    "X_train_ig, X_test_ig, y_train_ig, y_test_ig = train_test_split(X_ig, y_ig, test_size=0.3, random_state=0)"
   ]
  },
  {
   "cell_type": "code",
   "execution_count": 8,
   "id": "42407d21",
   "metadata": {},
   "outputs": [
    {
     "data": {
      "text/plain": [
       "array([0.15939087, 0.15694938, 0.05250035, 0.1325603 , 0.14820906,\n",
       "       0.14142687, 0.11425249, 0.17989283, 0.21120362, 0.12213581,\n",
       "       0.11613148, 0.09884163])"
      ]
     },
     "execution_count": 8,
     "metadata": {},
     "output_type": "execute_result"
    }
   ],
   "source": [
    "from sklearn.feature_selection import mutual_info_classif\n",
    "# determine the mutual information\n",
    "mutual_info = mutual_info_classif(X_train_ig, y_train_ig)\n",
    "mutual_info"
   ]
  },
  {
   "cell_type": "code",
   "execution_count": 9,
   "id": "70c6f91b",
   "metadata": {},
   "outputs": [
    {
     "data": {
      "text/plain": [
       "RPL17      0.211204\n",
       "RPL31      0.179893\n",
       "RPS7       0.159391\n",
       "RPL23      0.156949\n",
       "RPL34      0.148209\n",
       "RPL34.1    0.141427\n",
       "RPL26      0.132560\n",
       "RPL23.1    0.122136\n",
       "RPL26.1    0.116131\n",
       "COMMD6     0.114252\n",
       "RPL7       0.098842\n",
       "UQCRB      0.052500\n",
       "dtype: float64"
      ]
     },
     "execution_count": 9,
     "metadata": {},
     "output_type": "execute_result"
    }
   ],
   "source": [
    "mutual_info = pd.Series(mutual_info)\n",
    "mutual_info.index = X_train_ig.columns\n",
    "mutual_info.sort_values(ascending=False)"
   ]
  },
  {
   "cell_type": "code",
   "execution_count": 10,
   "id": "d83189a9",
   "metadata": {},
   "outputs": [
    {
     "data": {
      "text/plain": [
       "RPL17      0.211204\n",
       "RPL31      0.179893\n",
       "RPS7       0.159391\n",
       "RPL23      0.156949\n",
       "RPL34      0.148209\n",
       "RPL34.1    0.141427\n",
       "RPL26      0.132560\n",
       "RPL23.1    0.122136\n",
       "RPL26.1    0.116131\n",
       "COMMD6     0.114252\n",
       "RPL7       0.098842\n",
       "UQCRB      0.052500\n",
       "dtype: float64"
      ]
     },
     "execution_count": 10,
     "metadata": {},
     "output_type": "execute_result"
    }
   ],
   "source": [
    "mutual_info = pd.Series(mutual_info)\n",
    "mutual_info.index = X_train_ig.columns\n",
    "mutual_info.sort_values(ascending=False)"
   ]
  },
  {
   "cell_type": "code",
   "execution_count": 11,
   "id": "239ec544",
   "metadata": {},
   "outputs": [
    {
     "data": {
      "text/plain": [
       "Index(['RPS7', 'RPL23', 'RPL34', 'RPL31', 'RPL17'], dtype='object')"
      ]
     },
     "execution_count": 11,
     "metadata": {},
     "output_type": "execute_result"
    }
   ],
   "source": [
    "from sklearn.feature_selection import SelectKBest\n",
    "#No we Will select the  top 5 important features\n",
    "sel_five_cols = SelectKBest(mutual_info_classif, k=5).fit(X_train_ig, y_train_ig)\n",
    "X_train_ig.columns[sel_five_cols.get_support()]"
   ]
  },
  {
   "cell_type": "code",
   "execution_count": 12,
   "id": "d2021cae",
   "metadata": {},
   "outputs": [],
   "source": [
    "X_ig = X_ig[['RPS7', 'RPL23', 'RPL34', 'RPL31', 'RPL17']]"
   ]
  },
  {
   "cell_type": "code",
   "execution_count": 13,
   "id": "729df755",
   "metadata": {},
   "outputs": [
    {
     "name": "stdout",
     "output_type": "stream",
     "text": [
      "Feature: 0, Score: 0.22617\n",
      "Feature: 1, Score: 0.19026\n",
      "Feature: 2, Score: 0.20048\n",
      "Feature: 3, Score: 0.23952\n",
      "Feature: 4, Score: 0.14357\n"
     ]
    },
    {
     "data": {
      "image/png": "[encoded data removed]",
      "text/plain": [
       "<Figure size 432x288 with 1 Axes>"
      ]
     },
     "metadata": {
      "needs_background": "light"
     },
     "output_type": "display_data"
    }
   ],
   "source": [
    "from sklearn.datasets import make_classification\n",
    "from sklearn.ensemble import RandomForestClassifier\n",
    "from matplotlib import pyplot\n",
    "    \n",
    "model = RandomForestClassifier()\n",
    "# fit the model\n",
    "model.fit(X_ig, y_ig)\n",
    "# get importance\n",
    "importance = model.feature_importances_\n",
    "# summarize feature importance\n",
    "for i,v in enumerate(importance):\n",
    " print('Feature: %0d, Score: %.5f' % (i,v))\n",
    "# plot feature importance\n",
    "pyplot.bar([x for x in range(len(importance))], importance)\n",
    "pyplot.show()"
   ]
  },
  {
   "cell_type": "code",
   "execution_count": 14,
   "id": "571e9348",
   "metadata": {},
   "outputs": [],
   "source": [
    "X_ig = X_ig[['RPS7', 'RPL31']]"
   ]
  },
  {
   "cell_type": "code",
   "execution_count": 15,
   "id": "032cfb1c",
   "metadata": {},
   "outputs": [],
   "source": [
    "from sklearn.model_selection import train_test_split\n",
    "\n",
    "X_train_ig, X_test_ig, y_train_ig, y_test_ig = train_test_split(X_ig, y_ig, test_size=0.3, random_state=20)"
   ]
  },
  {
   "cell_type": "code",
   "execution_count": 16,
   "id": "64c9cdb0",
   "metadata": {},
   "outputs": [],
   "source": [
    "from sklearn.preprocessing import StandardScaler\n",
    "sc = StandardScaler() \n",
    "X_train_ig = sc.fit_transform(X_train_ig)\n",
    "X_test_ig = sc.fit_transform(X_test_ig)"
   ]
  },
  {
   "cell_type": "code",
   "execution_count": 17,
   "id": "403aca1e",
   "metadata": {},
   "outputs": [
    {
     "data": {
      "text/plain": [
       "Text(0.5, 1.0, 'Precision-Recall curve')"
      ]
     },
     "execution_count": 17,
     "metadata": {},
     "output_type": "execute_result"
    },
    {
     "data": {
      "image/png": "[encoded data removed]",
      "text/plain": [
       "<Figure size 432x288 with 1 Axes>"
      ]
     },
     "metadata": {
      "needs_background": "light"
     },
     "output_type": "display_data"
    }
   ],
   "source": [
    "from sklearn.metrics import precision_recall_curve\n",
    "from sklearn.metrics import plot_precision_recall_curve\n",
    "from sklearn.metrics import matthews_corrcoef\n",
    "\n",
    "svm_classifier=  SVC()\n",
    "knn_classifier=  KNeighborsClassifier()\n",
    "DT_classifier =  DecisionTreeClassifier()\n",
    "ET_classifier =  ExtraTreesClassifier()\n",
    "RF_classifier =  RandomForestClassifier()\n",
    "nb_classifier =  GaussianNB()\n",
    "MLP_classifier =  MLPClassifier()\n",
    "\n",
    "\n",
    "svm_classifier.fit(X_train_ig,y_train_ig)\n",
    "knn_classifier.fit(X_train_ig,y_train_ig)\n",
    "DT_classifier.fit(X_train_ig,y_train_ig)\n",
    "ET_classifier.fit(X_train_ig,y_train_ig)\n",
    "RF_classifier.fit(X_train_ig,y_train_ig)\n",
    "nb_classifier.fit(X_train_ig,y_train_ig)\n",
    "MLP_classifier.fit(X_train_ig,y_train_ig)\n",
    "\n",
    "\n",
    "plot_precision_recall_curve(svm_classifier, X_test_ig, y_test_ig, ax = plt.gca(),name = \"SVM\")\n",
    "#plot_precision_recall_curve(knn_classifier, X_test_ig, y_test_ig, ax = plt.gca(),name = \"KNN\")\n",
    "#plot_precision_recall_curve(DT_classifier, X_test_ig, y_test_ig, ax = plt.gca(),name = \"DT\")\n",
    "plot_precision_recall_curve(ET_classifier, X_test_ig, y_test_ig, ax = plt.gca(),name = \"ET\")\n",
    "#plot_precision_recall_curve(RF_classifier, X_test_ig, y_test_ig, ax = plt.gca(),name = \"RF\")\n",
    "plot_precision_recall_curve(nb_classifier, X_test_ig, y_test_ig, ax = plt.gca(),name = \"NB\")\n",
    "plot_precision_recall_curve(MLP_classifier, X_test_ig, y_test_ig, ax = plt.gca(),name = \"MLP\")\n",
    "\n",
    "plt.title('Precision-Recall curve')"
   ]
  },
  {
   "cell_type": "code",
   "execution_count": 18,
   "id": "dd82c69a",
   "metadata": {},
   "outputs": [],
   "source": [
    "names = [\"SVM\",\"Nearest_Neighbors\",\"Decision_Tree\",\n",
    "         \"Extra_Trees\", \"Random_Forest\",\"Naive_Bayes\",\"Neural_Net\"]\n",
    "\n",
    "classifiers = [\n",
    "    SVC(),\n",
    "    KNeighborsClassifier(),\n",
    "    DecisionTreeClassifier(),\n",
    "    ExtraTreesClassifier(),\n",
    "    RandomForestClassifier(),\n",
    "    GaussianNB(),\n",
    "    MLPClassifier()]"
   ]
  },
  {
   "cell_type": "code",
   "execution_count": 19,
   "id": "90613887",
   "metadata": {},
   "outputs": [
    {
     "name": "stdout",
     "output_type": "stream",
     "text": [
      "[[6 1]\n",
      " [2 9]]\n",
      "0.8333333333333334\n",
      "              precision    recall  f1-score   support\n",
      "\n",
      "           0       0.75      0.86      0.80         7\n",
      "           1       0.90      0.82      0.86        11\n",
      "\n",
      "    accuracy                           0.83        18\n",
      "   macro avg       0.82      0.84      0.83        18\n",
      "weighted avg       0.84      0.83      0.83        18\n",
      "\n",
      "[[7 0]\n",
      " [3 8]]\n",
      "0.8333333333333334\n",
      "              precision    recall  f1-score   support\n",
      "\n",
      "           0       0.70      1.00      0.82         7\n",
      "           1       1.00      0.73      0.84        11\n",
      "\n",
      "    accuracy                           0.83        18\n",
      "   macro avg       0.85      0.86      0.83        18\n",
      "weighted avg       0.88      0.83      0.83        18\n",
      "\n",
      "[[6 1]\n",
      " [4 7]]\n",
      "0.7222222222222222\n",
      "              precision    recall  f1-score   support\n",
      "\n",
      "           0       0.60      0.86      0.71         7\n",
      "           1       0.88      0.64      0.74        11\n",
      "\n",
      "    accuracy                           0.72        18\n",
      "   macro avg       0.74      0.75      0.72        18\n",
      "weighted avg       0.77      0.72      0.72        18\n",
      "\n",
      "[[6 1]\n",
      " [2 9]]\n",
      "0.8333333333333334\n",
      "              precision    recall  f1-score   support\n",
      "\n",
      "           0       0.75      0.86      0.80         7\n",
      "           1       0.90      0.82      0.86        11\n",
      "\n",
      "    accuracy                           0.83        18\n",
      "   macro avg       0.82      0.84      0.83        18\n",
      "weighted avg       0.84      0.83      0.83        18\n",
      "\n",
      "[[6 1]\n",
      " [3 8]]\n",
      "0.7777777777777778\n",
      "              precision    recall  f1-score   support\n",
      "\n",
      "           0       0.67      0.86      0.75         7\n",
      "           1       0.89      0.73      0.80        11\n",
      "\n",
      "    accuracy                           0.78        18\n",
      "   macro avg       0.78      0.79      0.77        18\n",
      "weighted avg       0.80      0.78      0.78        18\n",
      "\n",
      "[[ 6  1]\n",
      " [ 1 10]]\n",
      "0.8888888888888888\n",
      "              precision    recall  f1-score   support\n",
      "\n",
      "           0       0.86      0.86      0.86         7\n",
      "           1       0.91      0.91      0.91        11\n",
      "\n",
      "    accuracy                           0.89        18\n",
      "   macro avg       0.88      0.88      0.88        18\n",
      "weighted avg       0.89      0.89      0.89        18\n",
      "\n",
      "[[6 1]\n",
      " [3 8]]\n",
      "0.7777777777777778\n",
      "              precision    recall  f1-score   support\n",
      "\n",
      "           0       0.67      0.86      0.75         7\n",
      "           1       0.89      0.73      0.80        11\n",
      "\n",
      "    accuracy                           0.78        18\n",
      "   macro avg       0.78      0.79      0.77        18\n",
      "weighted avg       0.80      0.78      0.78        18\n",
      "\n"
     ]
    },
    {
     "data": {
      "text/plain": [
       "0.5698028822981898"
      ]
     },
     "execution_count": 19,
     "metadata": {},
     "output_type": "execute_result"
    }
   ],
   "source": [
    "from sklearn.metrics import matthews_corrcoef\n",
    "scores = []\n",
    "for name, clf in zip(names, classifiers):\n",
    "    clf.fit(X_train_ig,y_train_ig)\n",
    "    score = clf.score(X_test_ig, y_test_ig)\n",
    "    y_predict_ig = clf.predict(X_test_ig)\n",
    "    print(confusion_matrix(y_test_ig, y_predict_ig))\n",
    "    print(accuracy_score(y_test_ig, y_predict_ig))\n",
    "    print(classification_report(y_test_ig, y_predict_ig))\n",
    "    scores.append(score)\n",
    "#calculate Matthews correlation coefficient\n",
    "matthews_corrcoef(y_test_ig, y_predict_ig)\n"
   ]
  },
  {
   "cell_type": "code",
   "execution_count": 20,
   "id": "23b5864b",
   "metadata": {},
   "outputs": [
    {
     "data": {
      "text/plain": [
       "[0.8333333333333334,\n",
       " 0.8333333333333334,\n",
       " 0.7222222222222222,\n",
       " 0.8333333333333334,\n",
       " 0.7777777777777778,\n",
       " 0.8888888888888888,\n",
       " 0.7777777777777778]"
      ]
     },
     "execution_count": 20,
     "metadata": {},
     "output_type": "execute_result"
    }
   ],
   "source": [
    "scores"
   ]
  },
  {
   "cell_type": "code",
   "execution_count": 21,
   "id": "ce159092",
   "metadata": {},
   "outputs": [
    {
     "data": {
      "text/html": [
       "<div>\n",
       "<style scoped>\n",
       "    .dataframe tbody tr th:only-of-type {\n",
       "        vertical-align: middle;\n",
       "    }\n",
       "\n",
       "    .dataframe tbody tr th {\n",
       "        vertical-align: top;\n",
       "    }\n",
       "\n",
       "    .dataframe thead th {\n",
       "        text-align: right;\n",
       "    }\n",
       "</style>\n",
       "<table border=\"1\" class=\"dataframe\">\n",
       "  <thead>\n",
       "    <tr style=\"text-align: right;\">\n",
       "      <th></th>\n",
       "      <th>name</th>\n",
       "      <th>score</th>\n",
       "    </tr>\n",
       "  </thead>\n",
       "  <tbody>\n",
       "    <tr>\n",
       "      <th>0</th>\n",
       "      <td>SVM</td>\n",
       "      <td>0.833333</td>\n",
       "    </tr>\n",
       "    <tr>\n",
       "      <th>1</th>\n",
       "      <td>Nearest_Neighbors</td>\n",
       "      <td>0.833333</td>\n",
       "    </tr>\n",
       "    <tr>\n",
       "      <th>2</th>\n",
       "      <td>Decision_Tree</td>\n",
       "      <td>0.722222</td>\n",
       "    </tr>\n",
       "    <tr>\n",
       "      <th>3</th>\n",
       "      <td>Extra_Trees</td>\n",
       "      <td>0.833333</td>\n",
       "    </tr>\n",
       "    <tr>\n",
       "      <th>4</th>\n",
       "      <td>Random_Forest</td>\n",
       "      <td>0.777778</td>\n",
       "    </tr>\n",
       "    <tr>\n",
       "      <th>5</th>\n",
       "      <td>Naive_Bayes</td>\n",
       "      <td>0.888889</td>\n",
       "    </tr>\n",
       "    <tr>\n",
       "      <th>6</th>\n",
       "      <td>Neural_Net</td>\n",
       "      <td>0.777778</td>\n",
       "    </tr>\n",
       "  </tbody>\n",
       "</table>\n",
       "</div>"
      ],
      "text/plain": [
       "                name     score\n",
       "0                SVM  0.833333\n",
       "1  Nearest_Neighbors  0.833333\n",
       "2      Decision_Tree  0.722222\n",
       "3        Extra_Trees  0.833333\n",
       "4      Random_Forest  0.777778\n",
       "5        Naive_Bayes  0.888889\n",
       "6         Neural_Net  0.777778"
      ]
     },
     "execution_count": 21,
     "metadata": {},
     "output_type": "execute_result"
    }
   ],
   "source": [
    "df = pd.DataFrame()\n",
    "df['name'] = names\n",
    "df['score'] = scores\n",
    "df"
   ]
  },
  {
   "cell_type": "code",
   "execution_count": 22,
   "id": "5584d6f0",
   "metadata": {},
   "outputs": [
    {
     "data": {
      "text/html": [
       "<style  type=\"text/css\" >\n",
       "    #T_2bcfb391_d9e5_11ee_9028_00090ffe0001row0_col1 {\n",
       "            background-color:  #4ea64e;\n",
       "            color:  #000000;\n",
       "        }    #T_2bcfb391_d9e5_11ee_9028_00090ffe0001row1_col1 {\n",
       "            background-color:  #4ea64e;\n",
       "            color:  #000000;\n",
       "        }    #T_2bcfb391_d9e5_11ee_9028_00090ffe0001row2_col1 {\n",
       "            background-color:  #ebf3eb;\n",
       "            color:  #000000;\n",
       "        }    #T_2bcfb391_d9e5_11ee_9028_00090ffe0001row3_col1 {\n",
       "            background-color:  #4ea64e;\n",
       "            color:  #000000;\n",
       "        }    #T_2bcfb391_d9e5_11ee_9028_00090ffe0001row4_col1 {\n",
       "            background-color:  #9ccd9c;\n",
       "            color:  #000000;\n",
       "        }    #T_2bcfb391_d9e5_11ee_9028_00090ffe0001row5_col1 {\n",
       "            background-color:  #008000;\n",
       "            color:  #f1f1f1;\n",
       "        }    #T_2bcfb391_d9e5_11ee_9028_00090ffe0001row6_col1 {\n",
       "            background-color:  #9ccd9c;\n",
       "            color:  #000000;\n",
       "        }</style><table id=\"T_2bcfb391_d9e5_11ee_9028_00090ffe0001\" ><thead>    <tr>        <th class=\"blank level0\" ></th>        <th class=\"col_heading level0 col0\" >name</th>        <th class=\"col_heading level0 col1\" >score</th>    </tr></thead><tbody>\n",
       "                <tr>\n",
       "                        <th id=\"T_2bcfb391_d9e5_11ee_9028_00090ffe0001level0_row0\" class=\"row_heading level0 row0\" >0</th>\n",
       "                        <td id=\"T_2bcfb391_d9e5_11ee_9028_00090ffe0001row0_col0\" class=\"data row0 col0\" >SVM</td>\n",
       "                        <td id=\"T_2bcfb391_d9e5_11ee_9028_00090ffe0001row0_col1\" class=\"data row0 col1\" >0.833333</td>\n",
       "            </tr>\n",
       "            <tr>\n",
       "                        <th id=\"T_2bcfb391_d9e5_11ee_9028_00090ffe0001level0_row1\" class=\"row_heading level0 row1\" >1</th>\n",
       "                        <td id=\"T_2bcfb391_d9e5_11ee_9028_00090ffe0001row1_col0\" class=\"data row1 col0\" >Nearest_Neighbors</td>\n",
       "                        <td id=\"T_2bcfb391_d9e5_11ee_9028_00090ffe0001row1_col1\" class=\"data row1 col1\" >0.833333</td>\n",
       "            </tr>\n",
       "            <tr>\n",
       "                        <th id=\"T_2bcfb391_d9e5_11ee_9028_00090ffe0001level0_row2\" class=\"row_heading level0 row2\" >2</th>\n",
       "                        <td id=\"T_2bcfb391_d9e5_11ee_9028_00090ffe0001row2_col0\" class=\"data row2 col0\" >Decision_Tree</td>\n",
       "                        <td id=\"T_2bcfb391_d9e5_11ee_9028_00090ffe0001row2_col1\" class=\"data row2 col1\" >0.722222</td>\n",
       "            </tr>\n",
       "            <tr>\n",
       "                        <th id=\"T_2bcfb391_d9e5_11ee_9028_00090ffe0001level0_row3\" class=\"row_heading level0 row3\" >3</th>\n",
       "                        <td id=\"T_2bcfb391_d9e5_11ee_9028_00090ffe0001row3_col0\" class=\"data row3 col0\" >Extra_Trees</td>\n",
       "                        <td id=\"T_2bcfb391_d9e5_11ee_9028_00090ffe0001row3_col1\" class=\"data row3 col1\" >0.833333</td>\n",
       "            </tr>\n",
       "            <tr>\n",
       "                        <th id=\"T_2bcfb391_d9e5_11ee_9028_00090ffe0001level0_row4\" class=\"row_heading level0 row4\" >4</th>\n",
       "                        <td id=\"T_2bcfb391_d9e5_11ee_9028_00090ffe0001row4_col0\" class=\"data row4 col0\" >Random_Forest</td>\n",
       "                        <td id=\"T_2bcfb391_d9e5_11ee_9028_00090ffe0001row4_col1\" class=\"data row4 col1\" >0.777778</td>\n",
       "            </tr>\n",
       "            <tr>\n",
       "                        <th id=\"T_2bcfb391_d9e5_11ee_9028_00090ffe0001level0_row5\" class=\"row_heading level0 row5\" >5</th>\n",
       "                        <td id=\"T_2bcfb391_d9e5_11ee_9028_00090ffe0001row5_col0\" class=\"data row5 col0\" >Naive_Bayes</td>\n",
       "                        <td id=\"T_2bcfb391_d9e5_11ee_9028_00090ffe0001row5_col1\" class=\"data row5 col1\" >0.888889</td>\n",
       "            </tr>\n",
       "            <tr>\n",
       "                        <th id=\"T_2bcfb391_d9e5_11ee_9028_00090ffe0001level0_row6\" class=\"row_heading level0 row6\" >6</th>\n",
       "                        <td id=\"T_2bcfb391_d9e5_11ee_9028_00090ffe0001row6_col0\" class=\"data row6 col0\" >Neural_Net</td>\n",
       "                        <td id=\"T_2bcfb391_d9e5_11ee_9028_00090ffe0001row6_col1\" class=\"data row6 col1\" >0.777778</td>\n",
       "            </tr>\n",
       "    </tbody></table>"
      ],
      "text/plain": [
       "<pandas.io.formats.style.Styler at 0xcb9bbd8430>"
      ]
     },
     "execution_count": 22,
     "metadata": {},
     "output_type": "execute_result"
    }
   ],
   "source": [
    "cm = sns.light_palette(\"green\", as_cmap=True)\n",
    "s = df.style.background_gradient(cmap=cm)\n",
    "s"
   ]
  },
  {
   "cell_type": "code",
   "execution_count": 23,
   "id": "dc51cef4",
   "metadata": {},
   "outputs": [
    {
     "data": {
      "image/png": "[encoded data removed]",
      "text/plain": [
       "<Figure size 432x288 with 1 Axes>"
      ]
     },
     "metadata": {},
     "output_type": "display_data"
    }
   ],
   "source": [
    "sns.set(style=\"whitegrid\")\n",
    "ax = sns.barplot(y=\"name\", x=\"score\", data=df)"
   ]
  },
  {
   "cell_type": "code",
   "execution_count": 24,
   "id": "e66dffb6",
   "metadata": {},
   "outputs": [],
   "source": [
    "from sklearn.metrics import roc_curve, roc_auc_score\n",
    " \n",
    "classifiers = [ SVC(probability=True),\n",
    "                KNeighborsClassifier(), \n",
    "                DecisionTreeClassifier(),\n",
    "                ExtraTreesClassifier(),\n",
    "                RandomForestClassifier(),\n",
    "                AdaBoostClassifier(),\n",
    "                GaussianNB(),\n",
    "                MLPClassifier()\n",
    "                ]\n",
    "\n",
    "# Define a result table  (DataFrame)\n",
    "result_table = pd.DataFrame(columns=['classifiers', 'fpr','tpr','auc'])\n",
    "\n",
    "# Train the models \n",
    "for cls in classifiers:\n",
    "    model = cls.fit(X_train_ig, y_train_ig)\n",
    "    yproba_ig = model.predict_proba(X_test_ig)[::,1]\n",
    "    \n",
    "    fpr, tpr, _ = roc_curve(y_test_ig,  yproba_ig)\n",
    "    auc = roc_auc_score(y_test_ig, yproba_ig)\n",
    "    \n",
    "    result_table = result_table.append({'classifiers':cls.__class__.__name__,\n",
    "                                        'fpr':fpr, \n",
    "                                        'tpr':tpr, \n",
    "                                        'auc':auc}, ignore_index=True)\n",
    "\n",
    "# Set name of the classifiers as index labels\n",
    "result_table.set_index('classifiers', inplace=True)"
   ]
  },
  {
   "cell_type": "code",
   "execution_count": 25,
   "id": "085d5e7a",
   "metadata": {},
   "outputs": [
    {
     "data": {
      "image/png": "[encoded data removed]",
      "text/plain": [
       "<Figure size 720x576 with 1 Axes>"
      ]
     },
     "metadata": {},
     "output_type": "display_data"
    }
   ],
   "source": [
    "fig = plt.figure(figsize=(10,8))\n",
    "\n",
    "for i in result_table.index:\n",
    "    plt.plot(result_table.loc[i]['fpr'], \n",
    "             result_table.loc[i]['tpr'], \n",
    "             label=\"{}, AUC={:.3f}\".format(i, result_table.loc[i]['auc']))\n",
    "    \n",
    "plt.plot([0,1], [0,1], color='orange', linestyle='--')\n",
    "\n",
    "plt.xticks(np.arange(0.0, 1.1, step=0.1))\n",
    "plt.xlabel(\"Flase Positive Rate\", fontsize=15)\n",
    "\n",
    "plt.yticks(np.arange(0.0, 1.1, step=0.1))\n",
    "plt.ylabel(\"True Positive Rate\", fontsize=15)\n",
    "\n",
    "plt.title('ROC Curve Analysis', fontweight='bold', fontsize=15)\n",
    "plt.legend(prop={'size':13}, loc='lower right')\n",
    "\n",
    "plt.show()"
   ]
  },
  {
   "cell_type": "code",
   "execution_count": null,
   "id": "05bf26db",
   "metadata": {},
   "outputs": [],
   "source": []
  }
 ],
 "metadata": {
  "kernelspec": {
   "display_name": "Python 3",
   "language": "python",
   "name": "python3"
  },
  "language_info": {
   "codemirror_mode": {
    "name": "ipython",
    "version": 3
   },
   "file_extension": ".py",
   "mimetype": "text/x-python",
   "name": "python",
   "nbconvert_exporter": "python",
   "pygments_lexer": "ipython3",
   "version": "3.8.8"
  }
 },
 "nbformat": 4,
 "nbformat_minor": 5
}
